{
  "nbformat": 4,
  "nbformat_minor": 0,
  "metadata": {
    "colab": {
      "name": "Sergio Gómez - AG1.ipynb",
      "provenance": [],
      "collapsed_sections": [],
      "authorship_tag": "ABX9TyOj/VRno2uElH/yo3Nzpb2E",
      "include_colab_link": true
    },
    "kernelspec": {
      "name": "python3",
      "display_name": "Python 3"
    }
  },
  "cells": [
    {
      "cell_type": "markdown",
      "metadata": {
        "id": "view-in-github",
        "colab_type": "text"
      },
      "source": [
        "<a href=\"https://colab.research.google.com/github/sergope/03MAIR-Algoritmos-de-Optimizacion/blob/master/Sergio_G%C3%B3mez_AG1.ipynb\" target=\"_parent\"><img src=\"https://colab.research.google.com/assets/colab-badge.svg\" alt=\"Open In Colab\"/></a>"
      ]
    },
    {
      "cell_type": "markdown",
      "metadata": {
        "id": "wK-NQzjWSHQ6",
        "colab_type": "text"
      },
      "source": [
        "AG1 <br>\n",
        "Sergio Gómez Pérez <br>\n",
        "url: https://colab.research.google.com/drive/1YseT8HTP_SVLbpPaS27-WmjRJMSu5Un_\n"
      ]
    },
    {
      "cell_type": "markdown",
      "metadata": {
        "id": "c_ofIdKhS6be",
        "colab_type": "text"
      },
      "source": [
        "## Torres de Hanoi\n"
      ]
    },
    {
      "cell_type": "code",
      "metadata": {
        "id": "3ixRbUcYSaDi",
        "colab_type": "code",
        "colab": {
          "base_uri": "https://localhost:8080/",
          "height": 272
        },
        "outputId": "de090e4d-395a-460d-d861-638a0f45c83a"
      },
      "source": [
        "# Algoritmo para torres de hanoi\n",
        "def torres_hanoi(N, desde, hasta):\n",
        "  if N==1:\n",
        "    print(\"Llevar desde \" + str(desde) + \" hasta \" + str(hasta))\n",
        "  else:\n",
        "    torres_hanoi(N-1, desde, 6-desde-hasta)\n",
        "    print(\"Llevar desde \" + str(desde) + \" hasta \" + str(hasta))\n",
        "    torres_hanoi(N-1, 6-desde-hasta, hasta)\n",
        "\n",
        "torres_hanoi(4,1,3)"
      ],
      "execution_count": 1,
      "outputs": [
        {
          "output_type": "stream",
          "text": [
            "Llevar desde 1 hasta 2\n",
            "Llevar desde 1 hasta 3\n",
            "Llevar desde 2 hasta 3\n",
            "Llevar desde 1 hasta 2\n",
            "Llevar desde 3 hasta 1\n",
            "Llevar desde 3 hasta 2\n",
            "Llevar desde 1 hasta 2\n",
            "Llevar desde 1 hasta 3\n",
            "Llevar desde 2 hasta 3\n",
            "Llevar desde 2 hasta 1\n",
            "Llevar desde 3 hasta 1\n",
            "Llevar desde 2 hasta 3\n",
            "Llevar desde 1 hasta 2\n",
            "Llevar desde 1 hasta 3\n",
            "Llevar desde 2 hasta 3\n"
          ],
          "name": "stdout"
        }
      ]
    },
    {
      "cell_type": "markdown",
      "metadata": {
        "id": "1XYYtxJpTH2z",
        "colab_type": "text"
      },
      "source": [
        "## N Reinas\n"
      ]
    },
    {
      "cell_type": "code",
      "metadata": {
        "id": "89MXNQ-ySDt4",
        "colab_type": "code",
        "colab": {
          "base_uri": "https://localhost:8080/",
          "height": 119
        },
        "outputId": "fc703abd-c30d-448c-c777-c97ee32054dc"
      },
      "source": [
        "import numpy as np\n",
        "\n",
        "#Algoritmo para el programa de las N reinas\n",
        "def es_prometedora(solucion, etapa):\n",
        "  for i in range(etapa+1):\n",
        "    if solucion.count(solucion[i]) > 1:\n",
        "      return False\n",
        "\n",
        "    for j in range(i+1, etapa+1):\n",
        "      if abs(i-j) == abs(solucion[i]-solucion[j]):\n",
        "        return False\n",
        "  return True\n",
        "\n",
        "def reinas(N, solucion, etapa): #tamaño del tablero\n",
        "  for i in range(1, N+1):\n",
        "    solucion[etapa] = i\n",
        "\n",
        "    if es_prometedora(solucion, etapa):\n",
        "      if etapa == N-1:\n",
        "        print(\"\\nLa solución es: \")\n",
        "        print(solucion)\n",
        "      else:\n",
        "        # print(\"ES PROMETEDORA\\n#############\")\n",
        "        reinas(N,solucion,etapa+1)\n",
        "\n",
        "    else:\n",
        "      # print(\"NOOOO ES PROMETEDORA\\n#############\")\n",
        "      None\n",
        "\n",
        "    solucion[etapa] = 0\n",
        "\n",
        "N = 4\n",
        "solucion = []\n",
        "for i in range(N):\n",
        "  solucion.append(0)\n",
        "reinas(N, solucion, 0)\n"
      ],
      "execution_count": 2,
      "outputs": [
        {
          "output_type": "stream",
          "text": [
            "\n",
            "La solución es: \n",
            "[2, 4, 1, 3]\n",
            "\n",
            "La solución es: \n",
            "[3, 1, 4, 2]\n"
          ],
          "name": "stdout"
        }
      ]
    },
    {
      "cell_type": "markdown",
      "metadata": {
        "id": "CWsFhgQ7TQ2l",
        "colab_type": "text"
      },
      "source": [
        "## Vecinos más cercanos"
      ]
    },
    {
      "cell_type": "code",
      "metadata": {
        "id": "5RylyoimTUfY",
        "colab_type": "code",
        "colab": {}
      },
      "source": [
        "import random\n"
      ],
      "execution_count": 0,
      "outputs": []
    },
    {
      "cell_type": "code",
      "metadata": {
        "id": "xD5eBwLmTZbZ",
        "colab_type": "code",
        "colab": {}
      },
      "source": [
        "size = 10000\n",
        "LISTA_1D = [random.randrange(1,size) for x in range (100)]"
      ],
      "execution_count": 0,
      "outputs": []
    },
    {
      "cell_type": "code",
      "metadata": {
        "id": "hTu5MoChTax8",
        "colab_type": "code",
        "colab": {
          "base_uri": "https://localhost:8080/",
          "height": 105
        },
        "outputId": "52f129e6-8d88-4b57-f114-6cab2d2f9409"
      },
      "source": [
        "# Vecinos cercanos fureza bruta\n",
        "def calcula_distancia(p1,p2):\n",
        "  res = abs(p2 -p1)\n",
        "  return res\n",
        "\n",
        "def vecinos_cercanos_fuerza_bruta(lista, minima_distancia):\n",
        "  for i in range(len(lista)):\n",
        "    if (i==0):\n",
        "      continue\n",
        "    distancia = calcula_distancia(lista[i-1], lista[i])\n",
        "    if (distancia < minima_distancia):\n",
        "      minima_distancia = distancia\n",
        "      p1 = lista[i-1]\n",
        "      p2 = lista[i]\n",
        "      if (minima_distancia == 0):\n",
        "        break\n",
        "\n",
        "  return minima_distancia, p1, p2\n",
        "\n",
        "# Defino una distancia mínima entre puntos en base al tamaño de los nº de la lista\n",
        "minima_distancia = size\n",
        "d, p1, p2 = vecinos_cercanos_fuerza_bruta(LISTA_1D, minima_distancia)\n",
        "print('miminima_distancia: ', d)\n",
        "print('p1', p1)\n",
        "print('p2', p2)\n",
        "print(LISTA_1D)"
      ],
      "execution_count": 23,
      "outputs": [
        {
          "output_type": "stream",
          "text": [
            "miminima_distancia:  101\n",
            "p1 1233\n",
            "p2 1132\n",
            "[6680, 4176, 6086, 9671, 842, 6142, 9002, 4179, 5032, 9761, 7327, 7158, 120, 8957, 8126, 8682, 5156, 5397, 3930, 9752, 7843, 6684, 2375, 4705, 786, 8732, 6346, 3145, 6535, 383, 5679, 1363, 9536, 9749, 7010, 1233, 1132, 4765, 7611, 6318, 6589, 1505, 1378, 113, 1404, 4864, 8675, 5871, 8658, 5841, 1238, 4741, 8027, 7573, 6232, 4433, 7325, 3557, 4736, 2265, 4621, 3336, 6733, 9136, 6339, 8103, 6373, 2585, 6382, 1911, 4020, 354, 4065, 8500, 8919, 4902, 6973, 4826, 1651, 6125, 2779, 464, 9879, 9377, 7929, 7287, 1051, 1494, 1942, 2672, 9199, 5148, 4301, 6102, 8587, 4808, 7591, 5740, 3778, 132]\n"
          ],
          "name": "stdout"
        }
      ]
    },
    {
      "cell_type": "code",
      "metadata": {
        "id": "YmP6u_nfTgWT",
        "colab_type": "code",
        "colab": {
          "base_uri": "https://localhost:8080/",
          "height": 34
        },
        "outputId": "1511f848-8702-41c7-9f8a-aa40e6340988"
      },
      "source": [
        "# Vecinos más cercanos divice y vencerás\n",
        "def vecinos_cercanos_divide_venceras(lista, minima_distancia):\n",
        "  # En caso de que el tamañno de la lista sea menor o igual a 3 reutilizamos el algoritmo de vecinos más cercanos por fuerza burta\n",
        "  if (len(lista) <= 3):\n",
        "    distancia, p1, p2 = vecinos_cercanos_fuerza_bruta(lista, minima_distancia)\n",
        "    return distancia\n",
        "  else:\n",
        "    # Dividimos la lista en 2\n",
        "    mitad = len(lista) // 2 # usamos // para que el resultado sea entero\n",
        "    primera_mitad = lista[:mitad]\n",
        "    segunda_mitad = lista[mitad:]\n",
        "\n",
        "    # Utilizamos la recursividad con las 2 mitades\n",
        "    d1 = vecinos_cercanos_divide_venceras(primera_mitad, minima_distancia)\n",
        "    d2 = vecinos_cercanos_divide_venceras(segunda_mitad, minima_distancia)\n",
        "\n",
        "    # Retornamos el menos de los 2\n",
        "    if (d1 < d2):\n",
        "      return d1\n",
        "    else:\n",
        "      return d2\n",
        "  \n",
        "\n",
        "minima_distancia = size\n",
        "distancia = vecinos_cercanos_divide_venceras(LISTA_1D, minima_distancia)\n",
        "print('mínima distancia: ', distancia)"
      ],
      "execution_count": 24,
      "outputs": [
        {
          "output_type": "stream",
          "text": [
            "mínima distancia:  101\n"
          ],
          "name": "stdout"
        }
      ]
    }
  ]
}