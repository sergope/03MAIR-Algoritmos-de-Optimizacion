{
  "nbformat": 4,
  "nbformat_minor": 0,
  "metadata": {
    "colab": {
      "name": "Sergio Gómez - AG3.ipynb",
      "provenance": [],
      "collapsed_sections": [],
      "authorship_tag": "ABX9TyMjAFg8f8KUPEQZirwi6ACW",
      "include_colab_link": true
    },
    "kernelspec": {
      "name": "python3",
      "display_name": "Python 3"
    }
  },
  "cells": [
    {
      "cell_type": "markdown",
      "metadata": {
        "id": "view-in-github",
        "colab_type": "text"
      },
      "source": [
        "<a href=\"https://colab.research.google.com/github/sergope/03MAIR-Algoritmos-de-Optimizacion/blob/master/Sergio_G%C3%B3mez_AG3.ipynb\" target=\"_parent\"><img src=\"https://colab.research.google.com/assets/colab-badge.svg\" alt=\"Open In Colab\"/></a>"
      ]
    },
    {
      "cell_type": "markdown",
      "metadata": {
        "id": "0KDM62k4HlNU",
        "colab_type": "text"
      },
      "source": [
        "AG3\n",
        "\n",
        "Sergio Gómez Pérez\n",
        "\n",
        "url: https://colab.research.google.com/drive/1Fsbe1TUCA7PDMYSOFxZbiYfSVpXdU3g8\n"
      ]
    },
    {
      "cell_type": "code",
      "metadata": {
        "id": "SBd1CvnOHzE6",
        "colab_type": "code",
        "outputId": "108b75fc-8a9e-4478-b969-f921da84b211",
        "colab": {
          "base_uri": "https://localhost:8080/",
          "height": 122
        }
      },
      "source": [
        "!pip install requests"
      ],
      "execution_count": 7,
      "outputs": [
        {
          "output_type": "stream",
          "text": [
            "Requirement already satisfied: requests in /usr/local/lib/python3.6/dist-packages (2.21.0)\n",
            "Requirement already satisfied: idna<2.9,>=2.5 in /usr/local/lib/python3.6/dist-packages (from requests) (2.8)\n",
            "Requirement already satisfied: chardet<3.1.0,>=3.0.2 in /usr/local/lib/python3.6/dist-packages (from requests) (3.0.4)\n",
            "Requirement already satisfied: urllib3<1.25,>=1.21.1 in /usr/local/lib/python3.6/dist-packages (from requests) (1.24.3)\n",
            "Requirement already satisfied: certifi>=2017.4.17 in /usr/local/lib/python3.6/dist-packages (from requests) (2019.11.28)\n"
          ],
          "name": "stdout"
        }
      ]
    },
    {
      "cell_type": "code",
      "metadata": {
        "id": "LVLORBz2HYUw",
        "colab_type": "code",
        "outputId": "93c2f6ee-9afa-400c-b5c9-c70a9f65d198",
        "colab": {
          "base_uri": "https://localhost:8080/",
          "height": 156
        }
      },
      "source": [
        "!pip install tsplib95"
      ],
      "execution_count": 6,
      "outputs": [
        {
          "output_type": "stream",
          "text": [
            "Collecting tsplib95\n",
            "  Downloading https://files.pythonhosted.org/packages/dc/43/039c0621085202f19d6c12b06330bf109743083ce4024137b4713da9c40b/tsplib95-0.6.1-py2.py3-none-any.whl\n",
            "Requirement already satisfied: networkx~=2.1 in /usr/local/lib/python3.6/dist-packages (from tsplib95) (2.4)\n",
            "Requirement already satisfied: Click>=6.0 in /usr/local/lib/python3.6/dist-packages (from tsplib95) (7.0)\n",
            "Requirement already satisfied: decorator>=4.3.0 in /usr/local/lib/python3.6/dist-packages (from networkx~=2.1->tsplib95) (4.4.1)\n",
            "Installing collected packages: tsplib95\n",
            "Successfully installed tsplib95-0.6.1\n"
          ],
          "name": "stdout"
        }
      ]
    },
    {
      "cell_type": "code",
      "metadata": {
        "id": "2_iq-6L_J_sV",
        "colab_type": "code",
        "outputId": "e9069738-8123-43c5-8fba-3c705142421d",
        "colab": {
          "base_uri": "https://localhost:8080/",
          "height": 34
        }
      },
      "source": [
        "import urllib.request\n",
        "\n",
        "file = \"swiss42.tsp\"\n",
        "\n",
        "urllib.request.urlretrieve(\"http://elib.zib.de/pub/mp-testdata/tsp/tsplib/tsp/swiss42.tsp\", file)"
      ],
      "execution_count": 46,
      "outputs": [
        {
          "output_type": "execute_result",
          "data": {
            "text/plain": [
              "('swiss42.tsp', <http.client.HTTPMessage at 0x7f8cf10c0e48>)"
            ]
          },
          "metadata": {
            "tags": []
          },
          "execution_count": 46
        }
      ]
    },
    {
      "cell_type": "code",
      "metadata": {
        "id": "TBePDYCobDcl",
        "colab_type": "code",
        "colab": {}
      },
      "source": [
        "import tsplib95\n",
        "import random\n",
        "import math"
      ],
      "execution_count": 0,
      "outputs": []
    },
    {
      "cell_type": "code",
      "metadata": {
        "id": "g5iPV3UWcj4h",
        "colab_type": "code",
        "colab": {}
      },
      "source": [
        "problem = tsplib95.load_problem(file)\n",
        "Nodos = list(problem.get_nodes())\n",
        "Aristas = list(problem.get_edges())\n",
        "\n"
      ],
      "execution_count": 0,
      "outputs": []
    },
    {
      "cell_type": "code",
      "metadata": {
        "id": "JJCjs1i6gcJD",
        "colab_type": "code",
        "outputId": "7305da24-5c96-4f11-e80d-4acd443c56a1",
        "colab": {
          "base_uri": "https://localhost:8080/",
          "height": 34
        }
      },
      "source": [
        "#Se genera una solucion aleatoria con comienzo en en el nodo 0\n",
        "def crear_solucion(Nodos): \n",
        "  solucion = [0]\n",
        "  for i in range(len(Nodos)-1):\n",
        "    solucion = solucion + [random.choice(list(set(Nodos) - set(solucion)))]\n",
        "  return solucion \n",
        "\n",
        "# crear_solucion(Nodos)\n",
        "\n",
        "\n",
        "#Devuelve la distancia entre dos nodos\n",
        "def distancia(a,b, problem):\n",
        "  return problem.wfunc(a,b)\n",
        "\n",
        "# distancia(0,2,problem)\n",
        "\n",
        "\n",
        "#Devuelve la distancia total de una trayectoria\n",
        "def distancia_total(solucion, problem):\n",
        "  distancia_total = 0\n",
        "  for i in range(len(solucion)-1):\n",
        "    distancia_total += distancia(solucion[i] ,solucion[i+1] ,  problem)\n",
        "  return distancia_total + distancia(solucion[len(solucion)-1] ,solucion[0], problem)\n",
        "\n",
        "\n",
        "solucion = crear_solucion(Nodos)\n",
        "distancia_total(solucion,problem)\n"
      ],
      "execution_count": 49,
      "outputs": [
        {
          "output_type": "execute_result",
          "data": {
            "text/plain": [
              "4882"
            ]
          },
          "metadata": {
            "tags": []
          },
          "execution_count": 49
        }
      ]
    },
    {
      "cell_type": "code",
      "metadata": {
        "id": "mSDj1x-jaXsF",
        "colab_type": "code",
        "colab": {}
      },
      "source": [
        "# Búsqueda aleatoria, algoritmo iterativo\n",
        "def busqueda_aleatoria(problem, N):\n",
        "  mejor_solucion = crear_solucion(Nodos)\n",
        "  mejor_valor = distancia_total(mejor_solucion, problem)\n",
        "\n",
        "  for i in range(N):\n",
        "      solucion = crear_solucion(Nodos)\n",
        "      valor = distancia_total(solucion,problem)\n",
        "      if valor < mejor_valor:\n",
        "        mejor_solucion = solucion\n",
        "        mejor_valor = valor\n",
        "\n",
        "  # print(\"La mejor solución es: \", mejor_valor, mejor_solucion)\n",
        "\n",
        "busqueda_aleatoria(problem, 2000)"
      ],
      "execution_count": 0,
      "outputs": []
    },
    {
      "cell_type": "code",
      "metadata": {
        "id": "crVfuVHQcvHT",
        "colab_type": "code",
        "colab": {}
      },
      "source": [
        "def genera_vecina(solucion):\n",
        "  #Generador de soluciones vecinas: 2-opt (intercambiar 2 nodos) Si hay N nodos se generan (N-1)x(N-2)/2 soluciones\n",
        "  #print(solucion)\n",
        "  mejor_solucion = []\n",
        "  mejor_distancia = 10e100\n",
        "  for i in range(1,len(solucion)-1):\n",
        "    for j in range(i+1, len(solucion)):\n",
        "      vecina = solucion[:i] + [solucion[j]] + solucion[i+1:j] + [solucion[i]] + solucion[j+1:] \n",
        "      distancia_vecina = distancia_total(vecina, problem)\n",
        "      if distancia_vecina <= mejor_distancia:\n",
        "        mejor_distancia = distancia_vecina\n",
        "        mejor_solucion = vecina\n",
        "\n",
        "  # print(mejor_distancia,mejor_solucion)\n",
        "  return mejor_solucion\n",
        "      \n",
        "solucion = crear_solucion(Nodos)\n",
        "mejor_solucion = genera_vecina(solucion)"
      ],
      "execution_count": 0,
      "outputs": []
    },
    {
      "cell_type": "code",
      "metadata": {
        "id": "zFsrZ2bAY8_7",
        "colab_type": "code",
        "colab": {
          "base_uri": "https://localhost:8080/",
          "height": 54
        },
        "outputId": "abb620d4-fb29-45ed-acb2-66240ea247fa"
      },
      "source": [
        "#####################################################################\n",
        "def busqueda_local(problem, N):\n",
        "  #problem = datos del problema\n",
        "  #N = numero de iteraciones\n",
        "  \n",
        "  mejor_solucion = []\n",
        "  mejor_distancia = 10e100\n",
        "  \n",
        "  solucion_referencia = crear_solucion(Nodos)\n",
        "\n",
        "  for i in range(N):\n",
        "    vecina = genera_vecina(solucion_referencia)\n",
        "    distancia_vecina = distancia_total(vecina, problem)\n",
        "    if distancia_vecina <= mejor_distancia:\n",
        "      mejor_solucion = vecina\n",
        "      mejor_distancia = distancia_vecina\n",
        "        \n",
        "    solucion_referencia = vecina\n",
        "\n",
        "  print(\"La mejor solución encontrada es \" , mejor_distancia , mejor_solucion)\n",
        "\n",
        "busqueda_local(problem, 10 0)"
      ],
      "execution_count": 72,
      "outputs": [
        {
          "output_type": "stream",
          "text": [
            "La mejor solución encontrada es  1792 [0, 4, 18, 12, 11, 25, 10, 41, 23, 40, 24, 21, 26, 5, 14, 16, 15, 3, 2, 27, 32, 34, 33, 20, 35, 36, 31, 1, 6, 7, 17, 37, 19, 13, 8, 9, 39, 22, 38, 30, 29, 28]\n"
          ],
          "name": "stdout"
        }
      ]
    },
    {
      "cell_type": "code",
      "metadata": {
        "id": "0g66xBHzmFLo",
        "colab_type": "code",
        "colab": {
          "base_uri": "https://localhost:8080/",
          "height": 71
        },
        "outputId": "55b93c4d-33f7-45a6-903a-94b1ee603455"
      },
      "source": [
        "def genera_vecina_aleatorio(solucion):\n",
        "  #Generador de 1 solucion vecina 2-opt (intercambiar 2 nodos)\n",
        "  #Se puede mejorar haciendo que la elección no se uniforme sino entre las que estén más proximas\n",
        "  i = random.choice(range(1, len(solucion)) )\n",
        "  j = random.choice(list(set(range(1, len(solucion))) - {i}))\n",
        "  if j<i:\n",
        "    i,j=j,i\n",
        "  vecina = list(solucion[:i] + [solucion[j]] + solucion[i+1:j] + [solucion[i]] + solucion[j+1:])\n",
        "  return vecina\n",
        "\n",
        "solucion = crear_solucion(Nodos)\n",
        "print(solucion, \"\\n\", genera_vecina_aleatorio(solucion) )"
      ],
      "execution_count": 80,
      "outputs": [
        {
          "output_type": "stream",
          "text": [
            "[0, 16, 6, 8, 28, 30, 20, 38, 25, 3, 41, 15, 36, 33, 34, 37, 29, 19, 11, 27, 14, 18, 31, 26, 5, 13, 39, 17, 7, 9, 12, 2, 10, 40, 22, 21, 4, 35, 1, 32, 23, 24] \n",
            " [0, 16, 6, 8, 28, 30, 35, 38, 25, 3, 41, 15, 36, 33, 34, 37, 29, 19, 11, 27, 14, 18, 31, 26, 5, 13, 39, 17, 7, 9, 12, 2, 10, 40, 22, 21, 4, 20, 1, 32, 23, 24]\n"
          ],
          "name": "stdout"
        }
      ]
    },
    {
      "cell_type": "code",
      "metadata": {
        "id": "ukD8BAo_oCky",
        "colab_type": "code",
        "colab": {}
      },
      "source": [
        "#Funcion de probabilidad para determinar si se cambia \n",
        "#    a una solución peor respecto a la de referencia(exponencial)\n",
        "def probabilidad(T,d):\n",
        "  if random.random() <= math.exp(-1*d / T)   :\n",
        "    return True\n",
        "  else:\n",
        "    return False\n",
        "\n",
        "\n",
        "def bajar_temperatura(T):\n",
        "  return T*.9999"
      ],
      "execution_count": 0,
      "outputs": []
    },
    {
      "cell_type": "code",
      "metadata": {
        "id": "N9cbyQw7oEa2",
        "colab_type": "code",
        "colab": {
          "base_uri": "https://localhost:8080/",
          "height": 1000
        },
        "outputId": "5a6a1534-b40b-4300-8184-2c645c140f25"
      },
      "source": [
        "#####################################################################\n",
        "def recocido_simulado(problem, TEMPERATURA=1000):\n",
        "  #problem = datos del problema\n",
        "\n",
        "  solucion_referencia = crear_solucion(Nodos)\n",
        "  distancia_referencia = distancia_total(solucion_referencia, problem)\n",
        "  \n",
        "  mejor_solucion = []\n",
        "  mejor_distancia = 10e100\n",
        "\n",
        "  while TEMPERATURA > 1:\n",
        "    #Genera una solución vecina(aleatoria)\n",
        "    vecina = genera_vecina_aleatorio(solucion_referencia) \n",
        "    \n",
        "    #Calcula su valor(distancia)\n",
        "    distancia_vecina = distancia_total(vecina, problem)\n",
        "    \n",
        "    #Si es la mejor solución de todas se guarda\n",
        "    if distancia_vecina < mejor_distancia:\n",
        "      mejor_solucion = vecina\n",
        "      mejor_distancia = distancia_vecina\n",
        "      print('\\t****Encontrada mejor solucion:', mejor_distancia , mejor_solucion, '\\n')\n",
        "    \n",
        "    #Si la nueva vecina es mejor se cambia y si es peor se cambia según \n",
        "    # una probabilidad dependiente de T y de |distancia_referencia - distancia_vecina|\n",
        "    p = probabilidad(TEMPERATURA, abs(distancia_referencia - distancia_vecina) )\n",
        "    if distancia_vecina < distancia_referencia or p :\n",
        "      solucion_referencia = vecina\n",
        "      distancia_referencia = distancia_vecina\n",
        "    \n",
        "    TEMPERATURA = bajar_temperatura(TEMPERATURA)\n",
        "\n",
        "  print(\"La mejor solución encontrada es :\" , mejor_distancia, mejor_solucion  )\n",
        "  return mejor_solucion\n",
        "\n",
        "sol = recocido_simulado(problem, TEMPERATURA=100000)"
      ],
      "execution_count": 87,
      "outputs": [
        {
          "output_type": "stream",
          "text": [
            "\t****Encontrada mejor solucion: 5306 [0, 6, 23, 36, 26, 39, 5, 34, 25, 4, 11, 24, 19, 30, 13, 31, 38, 12, 40, 2, 20, 41, 35, 21, 22, 16, 1, 18, 27, 7, 14, 29, 8, 10, 32, 33, 37, 9, 17, 15, 28, 3] \n",
            "\n",
            "\t****Encontrada mejor solucion: 5252 [0, 6, 23, 36, 26, 39, 5, 34, 25, 4, 11, 24, 19, 30, 13, 31, 38, 12, 40, 2, 20, 41, 35, 21, 22, 16, 1, 18, 27, 7, 14, 29, 8, 9, 32, 33, 37, 10, 17, 15, 28, 3] \n",
            "\n",
            "\t****Encontrada mejor solucion: 5151 [0, 6, 23, 36, 26, 39, 5, 34, 25, 4, 11, 24, 19, 30, 13, 31, 38, 9, 40, 2, 20, 41, 35, 21, 22, 16, 1, 18, 27, 7, 14, 29, 8, 12, 32, 33, 37, 10, 17, 15, 28, 3] \n",
            "\n",
            "\t****Encontrada mejor solucion: 5091 [0, 6, 23, 36, 26, 10, 5, 34, 25, 4, 11, 24, 19, 30, 13, 31, 38, 9, 40, 2, 20, 41, 35, 21, 22, 16, 1, 18, 27, 7, 14, 29, 8, 12, 32, 33, 37, 39, 17, 15, 28, 3] \n",
            "\n",
            "\t****Encontrada mejor solucion: 4925 [0, 6, 23, 36, 26, 10, 5, 2, 25, 15, 16, 24, 19, 30, 13, 31, 38, 9, 40, 34, 20, 41, 35, 21, 22, 11, 1, 18, 27, 7, 14, 29, 8, 12, 32, 33, 37, 39, 17, 4, 28, 3] \n",
            "\n",
            "\t****Encontrada mejor solucion: 4855 [0, 6, 23, 33, 26, 10, 5, 2, 25, 15, 16, 24, 19, 30, 13, 31, 38, 9, 40, 34, 20, 41, 35, 21, 22, 11, 1, 18, 27, 7, 14, 29, 8, 12, 32, 36, 37, 39, 17, 4, 28, 3] \n",
            "\n",
            "\t****Encontrada mejor solucion: 4805 [0, 6, 23, 33, 26, 10, 5, 2, 24, 15, 16, 25, 19, 30, 13, 31, 38, 9, 40, 34, 20, 41, 35, 21, 22, 11, 1, 18, 27, 7, 14, 29, 8, 12, 32, 36, 37, 39, 17, 4, 28, 3] \n",
            "\n",
            "\t****Encontrada mejor solucion: 4791 [0, 6, 23, 33, 26, 4, 17, 2, 24, 21, 1, 25, 19, 30, 13, 32, 38, 9, 40, 34, 15, 41, 35, 29, 22, 11, 16, 18, 27, 7, 14, 20, 8, 12, 31, 36, 37, 39, 5, 10, 28, 3] \n",
            "\n",
            "\t****Encontrada mejor solucion: 4655 [0, 6, 23, 33, 26, 4, 17, 2, 24, 21, 1, 40, 19, 30, 13, 32, 38, 9, 25, 41, 15, 34, 35, 5, 22, 37, 16, 18, 27, 7, 14, 20, 8, 12, 31, 36, 11, 39, 29, 10, 28, 3] \n",
            "\n",
            "\t****Encontrada mejor solucion: 4619 [0, 24, 35, 8, 11, 3, 4, 26, 19, 21, 6, 10, 1, 34, 13, 18, 28, 9, 32, 17, 38, 40, 27, 5, 30, 16, 22, 41, 25, 29, 14, 15, 12, 23, 31, 36, 20, 33, 7, 37, 39, 2] \n",
            "\n",
            "\t****Encontrada mejor solucion: 4519 [0, 8, 19, 41, 23, 21, 33, 35, 36, 32, 27, 24, 5, 25, 30, 18, 1, 37, 12, 15, 6, 40, 4, 13, 31, 38, 7, 3, 14, 17, 39, 29, 20, 9, 26, 16, 34, 10, 11, 22, 28, 2] \n",
            "\n",
            "\t****Encontrada mejor solucion: 4510 [0, 8, 19, 41, 23, 21, 33, 35, 36, 32, 27, 24, 5, 25, 30, 18, 1, 37, 12, 15, 6, 40, 4, 13, 26, 38, 7, 3, 14, 17, 39, 29, 20, 9, 31, 16, 34, 10, 11, 22, 28, 2] \n",
            "\n",
            "\t****Encontrada mejor solucion: 4487 [0, 8, 19, 41, 23, 21, 33, 35, 36, 32, 27, 24, 5, 25, 30, 18, 1, 37, 12, 16, 6, 40, 4, 13, 26, 38, 7, 3, 14, 17, 39, 29, 20, 9, 31, 15, 34, 10, 11, 22, 28, 2] \n",
            "\n",
            "\t****Encontrada mejor solucion: 4484 [0, 40, 19, 41, 23, 21, 33, 35, 36, 32, 27, 24, 5, 25, 30, 18, 1, 37, 12, 16, 6, 8, 4, 13, 26, 38, 7, 3, 14, 17, 39, 29, 20, 9, 31, 15, 34, 10, 11, 22, 28, 2] \n",
            "\n",
            "\t****Encontrada mejor solucion: 4368 [0, 21, 9, 10, 34, 17, 23, 14, 15, 35, 33, 37, 20, 18, 27, 26, 7, 19, 29, 32, 38, 8, 41, 22, 3, 6, 12, 2, 13, 5, 1, 4, 11, 25, 36, 31, 39, 28, 24, 16, 40, 30] \n",
            "\n",
            "\t****Encontrada mejor solucion: 4335 [0, 5, 35, 15, 34, 40, 9, 12, 4, 16, 31, 37, 29, 25, 23, 32, 13, 21, 24, 20, 36, 22, 11, 41, 27, 6, 8, 10, 26, 33, 18, 1, 39, 19, 30, 38, 28, 3, 2, 17, 7, 14] \n",
            "\n",
            "\t****Encontrada mejor solucion: 4308 [0, 29, 35, 15, 34, 40, 9, 12, 4, 16, 31, 37, 5, 25, 23, 32, 13, 21, 24, 20, 36, 22, 11, 41, 27, 6, 8, 10, 26, 33, 18, 1, 39, 19, 30, 38, 28, 3, 2, 17, 7, 14] \n",
            "\n",
            "\t****Encontrada mejor solucion: 4249 [0, 29, 35, 7, 34, 40, 9, 12, 4, 16, 31, 37, 5, 25, 23, 32, 13, 21, 24, 20, 36, 22, 11, 41, 27, 6, 39, 10, 26, 33, 18, 1, 8, 19, 30, 38, 28, 3, 2, 17, 15, 14] \n",
            "\n",
            "\t****Encontrada mejor solucion: 4212 [0, 29, 35, 7, 34, 40, 9, 12, 4, 16, 31, 37, 5, 25, 23, 32, 13, 21, 24, 20, 36, 22, 11, 26, 27, 6, 39, 10, 41, 33, 18, 1, 8, 19, 30, 38, 28, 3, 2, 17, 15, 14] \n",
            "\n",
            "\t****Encontrada mejor solucion: 4081 [0, 9, 4, 36, 39, 40, 28, 37, 30, 23, 8, 32, 24, 21, 22, 38, 31, 35, 34, 7, 41, 10, 26, 11, 17, 5, 13, 25, 15, 33, 18, 3, 19, 6, 12, 1, 2, 14, 16, 27, 29, 20] \n",
            "\n",
            "\t****Encontrada mejor solucion: 4061 [0, 15, 3, 28, 18, 29, 21, 32, 5, 41, 24, 13, 11, 9, 39, 30, 22, 25, 7, 4, 19, 6, 40, 38, 8, 20, 33, 31, 36, 14, 27, 1, 10, 2, 23, 12, 17, 16, 26, 35, 37, 34] \n",
            "\n",
            "\t****Encontrada mejor solucion: 3994 [0, 15, 3, 28, 18, 29, 21, 32, 5, 41, 24, 13, 11, 9, 39, 30, 22, 25, 7, 1, 19, 6, 40, 38, 8, 20, 33, 36, 31, 14, 27, 4, 10, 2, 23, 12, 17, 16, 26, 35, 37, 34] \n",
            "\n",
            "\t****Encontrada mejor solucion: 3919 [0, 15, 3, 28, 18, 29, 21, 32, 5, 41, 24, 13, 25, 9, 39, 8, 22, 11, 7, 1, 19, 6, 40, 38, 30, 20, 33, 36, 31, 14, 27, 4, 10, 2, 23, 12, 17, 16, 26, 35, 37, 34] \n",
            "\n",
            "\t****Encontrada mejor solucion: 3900 [0, 16, 27, 36, 35, 26, 12, 18, 13, 33, 39, 38, 28, 19, 32, 1, 4, 37, 7, 20, 9, 23, 40, 22, 6, 11, 25, 30, 31, 8, 10, 24, 29, 41, 15, 5, 14, 17, 34, 21, 3, 2] \n",
            "\n",
            "\t****Encontrada mejor solucion: 3819 [0, 17, 5, 39, 25, 14, 37, 38, 13, 26, 27, 31, 28, 15, 16, 1, 4, 12, 30, 22, 2, 6, 33, 35, 36, 32, 34, 20, 3, 40, 24, 7, 41, 10, 9, 11, 23, 29, 8, 21, 18, 19] \n",
            "\n",
            "\t****Encontrada mejor solucion: 3702 [0, 16, 14, 5, 18, 15, 31, 1, 10, 24, 41, 40, 8, 25, 19, 23, 4, 13, 32, 29, 26, 12, 11, 36, 7, 20, 33, 30, 22, 28, 3, 21, 9, 38, 6, 27, 39, 2, 37, 17, 34, 35] \n",
            "\n",
            "\t****Encontrada mejor solucion: 3674 [0, 20, 10, 37, 11, 23, 32, 14, 15, 31, 30, 21, 40, 41, 24, 39, 5, 6, 3, 9, 18, 17, 4, 1, 28, 25, 8, 12, 22, 38, 34, 33, 13, 29, 35, 36, 7, 27, 26, 2, 19, 16] \n",
            "\n",
            "\t****Encontrada mejor solucion: 3669 [0, 27, 24, 25, 11, 10, 14, 6, 32, 31, 23, 41, 30, 5, 13, 18, 29, 38, 7, 1, 39, 33, 28, 12, 3, 4, 35, 34, 36, 17, 15, 19, 9, 40, 22, 21, 8, 26, 16, 37, 20, 2] \n",
            "\n",
            "\t****Encontrada mejor solucion: 3630 [0, 27, 24, 25, 11, 10, 14, 6, 35, 31, 23, 41, 30, 5, 13, 8, 29, 38, 7, 1, 4, 33, 28, 12, 3, 2, 32, 34, 36, 17, 15, 19, 9, 40, 22, 21, 18, 26, 16, 37, 20, 39] \n",
            "\n",
            "\t****Encontrada mejor solucion: 3623 [0, 4, 23, 10, 27, 7, 19, 13, 30, 33, 17, 16, 36, 35, 28, 9, 21, 8, 18, 6, 15, 12, 11, 3, 26, 29, 39, 40, 38, 31, 34, 2, 25, 41, 5, 22, 24, 14, 20, 37, 32, 1] \n",
            "\n",
            "\t****Encontrada mejor solucion: 3550 [0, 31, 34, 33, 15, 12, 9, 10, 25, 11, 22, 36, 35, 32, 17, 23, 3, 26, 16, 29, 4, 7, 6, 2, 18, 30, 38, 27, 5, 1, 21, 24, 40, 39, 8, 41, 19, 14, 13, 28, 37, 20] \n",
            "\n",
            "\t****Encontrada mejor solucion: 3534 [0, 31, 34, 33, 15, 12, 9, 10, 25, 11, 22, 36, 35, 32, 17, 23, 3, 26, 16, 29, 4, 7, 6, 2, 18, 30, 38, 27, 5, 1, 21, 24, 40, 39, 8, 41, 13, 14, 19, 28, 37, 20] \n",
            "\n",
            "\t****Encontrada mejor solucion: 3513 [0, 27, 29, 26, 28, 16, 5, 36, 35, 24, 40, 37, 14, 1, 6, 2, 33, 8, 39, 32, 22, 38, 31, 13, 19, 7, 12, 9, 21, 10, 25, 11, 18, 23, 30, 41, 3, 4, 15, 17, 20, 34] \n",
            "\n",
            "\t****Encontrada mejor solucion: 3504 [0, 17, 33, 32, 15, 34, 10, 6, 1, 26, 19, 2, 36, 16, 35, 5, 41, 23, 4, 28, 27, 7, 31, 20, 8, 25, 9, 3, 37, 14, 21, 29, 18, 30, 38, 22, 39, 24, 40, 12, 11, 13] \n",
            "\n",
            "\t****Encontrada mejor solucion: 3471 [0, 17, 33, 32, 15, 34, 1, 6, 10, 26, 19, 2, 36, 16, 35, 5, 41, 23, 4, 28, 27, 7, 31, 20, 8, 25, 9, 3, 37, 14, 21, 29, 18, 30, 38, 22, 39, 24, 40, 12, 11, 13] \n",
            "\n",
            "\t****Encontrada mejor solucion: 3404 [0, 17, 33, 34, 15, 32, 1, 6, 26, 10, 19, 7, 36, 16, 35, 5, 41, 21, 4, 28, 9, 2, 31, 20, 8, 25, 27, 3, 37, 14, 23, 29, 18, 30, 38, 22, 39, 24, 40, 12, 11, 13] \n",
            "\n",
            "\t****Encontrada mejor solucion: 3395 [0, 17, 33, 34, 36, 32, 15, 6, 26, 10, 19, 1, 7, 16, 35, 5, 41, 21, 4, 28, 9, 2, 31, 20, 8, 25, 27, 3, 37, 14, 23, 29, 18, 30, 38, 22, 39, 24, 40, 12, 11, 13] \n",
            "\n",
            "\t****Encontrada mejor solucion: 3315 [0, 33, 20, 3, 1, 25, 41, 32, 16, 36, 7, 31, 30, 2, 10, 9, 8, 18, 4, 29, 12, 27, 28, 39, 23, 40, 24, 22, 11, 21, 34, 35, 37, 14, 26, 15, 17, 6, 19, 13, 5, 38] \n",
            "\n",
            "\t****Encontrada mejor solucion: 3292 [0, 33, 20, 3, 1, 25, 41, 32, 16, 36, 7, 31, 11, 2, 10, 9, 8, 18, 4, 29, 12, 27, 28, 39, 23, 40, 24, 22, 30, 21, 34, 35, 37, 14, 26, 15, 17, 6, 19, 13, 5, 38] \n",
            "\n",
            "\t****Encontrada mejor solucion: 3190 [0, 28, 12, 26, 30, 1, 31, 16, 5, 19, 18, 4, 13, 15, 37, 36, 34, 29, 8, 39, 17, 38, 41, 3, 14, 7, 6, 10, 35, 33, 20, 32, 22, 23, 24, 40, 21, 9, 25, 11, 2, 27] \n",
            "\n",
            "\t****Encontrada mejor solucion: 3163 [0, 27, 12, 26, 17, 1, 34, 16, 5, 19, 18, 4, 13, 15, 37, 36, 31, 29, 8, 39, 30, 35, 41, 3, 14, 7, 6, 10, 38, 33, 20, 32, 22, 23, 24, 40, 21, 9, 25, 11, 2, 28] \n",
            "\n",
            "\t****Encontrada mejor solucion: 3153 [0, 5, 12, 28, 29, 25, 27, 39, 24, 22, 9, 38, 30, 21, 40, 10, 11, 41, 23, 34, 2, 20, 33, 35, 4, 3, 7, 31, 36, 19, 17, 37, 8, 6, 14, 32, 1, 18, 13, 26, 16, 15] \n",
            "\n",
            "\t****Encontrada mejor solucion: 3119 [0, 5, 12, 28, 29, 25, 27, 39, 24, 22, 9, 38, 30, 21, 40, 10, 11, 41, 23, 34, 2, 20, 33, 31, 4, 3, 7, 35, 36, 19, 17, 37, 8, 6, 14, 32, 1, 18, 13, 26, 16, 15] \n",
            "\n",
            "\t****Encontrada mejor solucion: 3072 [0, 5, 12, 28, 29, 25, 9, 39, 24, 22, 27, 38, 30, 21, 40, 10, 11, 41, 23, 34, 2, 20, 33, 31, 4, 3, 7, 35, 36, 19, 17, 37, 8, 6, 14, 32, 1, 18, 13, 26, 16, 15] \n",
            "\n",
            "\t****Encontrada mejor solucion: 3046 [0, 34, 6, 16, 5, 25, 9, 40, 24, 22, 28, 38, 30, 39, 21, 12, 11, 23, 41, 29, 2, 20, 32, 31, 4, 3, 7, 35, 36, 27, 17, 33, 8, 10, 18, 37, 19, 14, 13, 26, 1, 15] \n",
            "\n",
            "\t****Encontrada mejor solucion: 3023 [0, 2, 30, 39, 22, 38, 35, 33, 18, 26, 12, 21, 24, 9, 10, 27, 3, 6, 7, 15, 23, 40, 25, 41, 8, 11, 14, 16, 29, 28, 17, 31, 36, 37, 1, 34, 4, 5, 19, 13, 32, 20] \n",
            "\n",
            "\t****Encontrada mejor solucion: 2958 [0, 3, 27, 33, 20, 19, 8, 21, 24, 9, 40, 39, 22, 14, 17, 31, 36, 35, 37, 34, 10, 5, 23, 30, 29, 32, 7, 1, 4, 6, 12, 2, 26, 16, 15, 13, 18, 11, 25, 41, 28, 38] \n",
            "\n",
            "\t****Encontrada mejor solucion: 2941 [0, 3, 27, 33, 20, 19, 8, 21, 24, 9, 40, 39, 22, 14, 17, 31, 36, 35, 37, 34, 10, 23, 5, 30, 29, 32, 7, 1, 4, 6, 12, 2, 26, 16, 15, 13, 18, 11, 25, 41, 28, 38] \n",
            "\n",
            "\t****Encontrada mejor solucion: 2901 [0, 3, 27, 33, 20, 4, 8, 21, 24, 9, 40, 39, 22, 14, 17, 31, 36, 35, 37, 34, 10, 23, 7, 30, 29, 32, 6, 1, 19, 5, 12, 2, 26, 16, 15, 13, 18, 11, 25, 41, 28, 38] \n",
            "\n",
            "\t****Encontrada mejor solucion: 2860 [0, 3, 27, 33, 20, 4, 8, 21, 24, 9, 40, 39, 22, 14, 17, 31, 36, 35, 37, 34, 10, 23, 7, 30, 29, 32, 2, 1, 19, 5, 12, 6, 26, 16, 15, 13, 18, 11, 25, 41, 28, 38] \n",
            "\n",
            "\t****Encontrada mejor solucion: 2830 [0, 3, 27, 33, 20, 4, 8, 21, 24, 9, 40, 39, 22, 14, 17, 31, 36, 35, 37, 34, 10, 23, 7, 30, 29, 32, 2, 1, 19, 5, 12, 26, 13, 16, 15, 6, 18, 11, 25, 41, 28, 38] \n",
            "\n",
            "\t****Encontrada mejor solucion: 2759 [0, 10, 12, 32, 34, 2, 6, 30, 24, 21, 40, 8, 38, 33, 20, 31, 17, 35, 36, 14, 13, 41, 9, 39, 22, 3, 28, 37, 15, 4, 25, 11, 26, 5, 1, 27, 23, 29, 18, 19, 16, 7] \n",
            "\n",
            "\t****Encontrada mejor solucion: 2696 [0, 28, 4, 5, 15, 14, 26, 12, 18, 11, 10, 41, 24, 40, 21, 39, 38, 2, 29, 22, 34, 30, 1, 7, 37, 3, 19, 31, 27, 25, 9, 23, 8, 6, 16, 13, 36, 33, 20, 35, 17, 32] \n",
            "\n",
            "\t****Encontrada mejor solucion: 2659 [0, 1, 4, 5, 15, 14, 26, 12, 18, 11, 10, 41, 24, 40, 21, 39, 38, 2, 29, 22, 34, 30, 28, 7, 37, 3, 19, 31, 27, 25, 9, 23, 8, 6, 16, 13, 36, 33, 20, 35, 17, 32] \n",
            "\n",
            "\t****Encontrada mejor solucion: 2632 [0, 5, 4, 1, 3, 14, 26, 12, 18, 11, 10, 41, 24, 40, 21, 39, 38, 2, 29, 22, 34, 30, 28, 19, 37, 15, 17, 31, 27, 25, 9, 23, 8, 6, 16, 13, 36, 33, 20, 35, 7, 32] \n",
            "\n",
            "\t****Encontrada mejor solucion: 2623 [0, 5, 4, 1, 3, 14, 19, 12, 18, 11, 10, 41, 24, 40, 21, 39, 38, 2, 29, 22, 34, 30, 28, 26, 37, 15, 17, 31, 27, 25, 9, 23, 8, 6, 16, 13, 36, 33, 20, 35, 7, 32] \n",
            "\n",
            "\t****Encontrada mejor solucion: 2602 [0, 1, 13, 19, 26, 18, 5, 6, 8, 12, 10, 41, 21, 40, 24, 39, 38, 7, 4, 35, 37, 36, 31, 17, 16, 15, 14, 2, 9, 11, 25, 3, 32, 29, 30, 23, 34, 33, 20, 22, 27, 28] \n",
            "\n",
            "\t****Encontrada mejor solucion: 2590 [0, 1, 13, 19, 26, 18, 5, 6, 8, 12, 10, 41, 21, 40, 24, 39, 38, 7, 4, 2, 37, 36, 31, 17, 16, 15, 14, 35, 9, 11, 25, 3, 32, 29, 22, 23, 34, 33, 20, 30, 27, 28] \n",
            "\n",
            "\t****Encontrada mejor solucion: 2548 [0, 1, 13, 19, 26, 18, 5, 6, 41, 12, 10, 8, 21, 40, 24, 39, 38, 7, 4, 2, 37, 36, 31, 17, 35, 15, 14, 16, 11, 9, 25, 3, 32, 29, 22, 23, 34, 33, 20, 30, 27, 28] \n",
            "\n",
            "\t****Encontrada mejor solucion: 2468 [0, 1, 13, 19, 26, 18, 5, 6, 11, 12, 10, 8, 21, 40, 24, 39, 38, 7, 32, 2, 37, 31, 36, 17, 35, 15, 14, 16, 41, 9, 25, 3, 4, 29, 22, 23, 34, 33, 20, 30, 27, 28] \n",
            "\n",
            "\t****Encontrada mejor solucion: 2426 [0, 30, 27, 3, 2, 4, 5, 14, 16, 18, 12, 10, 9, 21, 24, 25, 20, 34, 33, 31, 17, 26, 11, 13, 37, 35, 36, 7, 15, 19, 6, 1, 28, 38, 22, 39, 8, 41, 23, 40, 29, 32] \n",
            "\n",
            "\t****Encontrada mejor solucion: 2389 [0, 1, 5, 28, 8, 41, 24, 40, 39, 23, 9, 26, 13, 3, 2, 7, 33, 20, 34, 35, 36, 31, 17, 32, 4, 37, 16, 15, 14, 19, 18, 38, 22, 21, 30, 29, 6, 27, 10, 12, 11, 25] \n",
            "\n",
            "\t****Encontrada mejor solucion: 2384 [0, 2, 3, 28, 8, 39, 24, 40, 41, 23, 9, 4, 19, 5, 1, 7, 33, 20, 34, 35, 36, 31, 17, 32, 26, 37, 16, 15, 14, 13, 11, 30, 22, 21, 38, 29, 6, 27, 10, 12, 18, 25] \n",
            "\n",
            "\t****Encontrada mejor solucion: 2353 [0, 2, 3, 28, 8, 39, 24, 40, 41, 23, 9, 4, 19, 5, 1, 7, 33, 20, 34, 35, 36, 31, 17, 32, 26, 37, 16, 15, 14, 13, 11, 30, 22, 21, 38, 29, 25, 27, 10, 12, 18, 6] \n",
            "\n",
            "\t****Encontrada mejor solucion: 2312 [0, 2, 3, 28, 27, 39, 24, 40, 41, 23, 9, 4, 19, 5, 1, 7, 33, 20, 34, 35, 36, 31, 26, 32, 17, 37, 16, 15, 14, 13, 11, 30, 22, 21, 38, 29, 25, 8, 10, 12, 18, 6] \n",
            "\n",
            "\t****Encontrada mejor solucion: 2288 [0, 2, 3, 28, 27, 39, 24, 40, 41, 23, 9, 4, 19, 5, 1, 7, 34, 20, 33, 35, 36, 31, 26, 32, 17, 37, 16, 15, 14, 13, 11, 30, 22, 21, 38, 29, 25, 8, 10, 12, 18, 6] \n",
            "\n",
            "\t****Encontrada mejor solucion: 2279 [0, 2, 3, 28, 27, 39, 24, 40, 9, 23, 41, 4, 19, 5, 1, 7, 34, 20, 33, 35, 36, 31, 26, 32, 17, 37, 16, 15, 14, 13, 11, 30, 22, 21, 38, 29, 25, 8, 10, 12, 18, 6] \n",
            "\n",
            "\t****Encontrada mejor solucion: 2229 [0, 2, 3, 28, 27, 21, 24, 40, 9, 23, 41, 4, 19, 5, 1, 7, 34, 20, 33, 35, 36, 31, 26, 32, 17, 37, 16, 15, 14, 13, 11, 30, 22, 39, 38, 29, 25, 8, 10, 12, 18, 6] \n",
            "\n",
            "\t****Encontrada mejor solucion: 2179 [0, 2, 3, 28, 27, 21, 24, 40, 9, 23, 41, 4, 19, 5, 1, 7, 34, 20, 33, 35, 36, 31, 26, 32, 17, 37, 16, 15, 14, 13, 11, 30, 22, 39, 38, 29, 8, 25, 10, 12, 18, 6] \n",
            "\n",
            "\t****Encontrada mejor solucion: 2177 [0, 26, 18, 10, 25, 41, 23, 40, 21, 24, 28, 32, 2, 6, 1, 7, 14, 17, 35, 36, 33, 34, 20, 31, 38, 39, 22, 30, 27, 12, 11, 8, 29, 9, 3, 4, 5, 13, 16, 15, 37, 19] \n",
            "\n",
            "\t****Encontrada mejor solucion: 2175 [0, 4, 18, 10, 25, 41, 23, 40, 21, 24, 28, 32, 27, 6, 1, 7, 14, 17, 35, 36, 33, 34, 20, 31, 38, 39, 22, 30, 2, 12, 11, 8, 29, 9, 3, 26, 5, 13, 16, 15, 37, 19] \n",
            "\n",
            "\t****Encontrada mejor solucion: 2147 [0, 4, 18, 10, 25, 41, 23, 24, 21, 40, 28, 32, 2, 19, 1, 6, 7, 17, 35, 36, 31, 34, 20, 33, 38, 39, 22, 9, 26, 12, 11, 8, 29, 30, 3, 27, 13, 5, 14, 15, 37, 16] \n",
            "\n",
            "\t****Encontrada mejor solucion: 2135 [0, 1, 29, 8, 10, 18, 41, 9, 39, 22, 30, 28, 27, 4, 2, 14, 16, 17, 36, 35, 34, 33, 38, 24, 40, 21, 23, 25, 11, 12, 32, 20, 3, 26, 5, 6, 31, 37, 15, 7, 19, 13] \n",
            "\n",
            "\t****Encontrada mejor solucion: 2106 [0, 2, 27, 8, 10, 25, 41, 9, 39, 22, 30, 28, 29, 4, 1, 14, 16, 15, 36, 35, 34, 33, 38, 24, 40, 21, 23, 18, 11, 12, 32, 20, 3, 26, 5, 6, 31, 37, 17, 7, 19, 13] \n",
            "\n",
            "\t****Encontrada mejor solucion: 2098 [0, 1, 27, 8, 41, 25, 12, 11, 10, 39, 38, 22, 30, 28, 2, 7, 37, 17, 36, 35, 33, 34, 9, 24, 21, 40, 23, 29, 3, 4, 32, 20, 5, 26, 18, 13, 19, 15, 16, 14, 31, 6] \n",
            "\n",
            "\t****Encontrada mejor solucion: 2071 [0, 1, 27, 8, 41, 25, 12, 11, 29, 38, 39, 22, 30, 28, 2, 7, 31, 17, 36, 35, 33, 34, 9, 24, 21, 40, 23, 10, 3, 4, 32, 20, 5, 26, 18, 13, 19, 15, 16, 14, 37, 6] \n",
            "\n",
            "\t****Encontrada mejor solucion: 2067 [0, 1, 2, 8, 41, 25, 12, 11, 29, 38, 39, 22, 30, 28, 27, 7, 31, 17, 36, 35, 33, 34, 9, 24, 21, 40, 23, 10, 3, 4, 32, 20, 5, 26, 18, 13, 19, 15, 16, 14, 37, 6] \n",
            "\n",
            "\t****Encontrada mejor solucion: 2058 [0, 28, 8, 23, 41, 10, 12, 25, 11, 18, 27, 6, 26, 35, 36, 17, 31, 34, 20, 33, 22, 38, 39, 40, 24, 21, 9, 29, 30, 2, 32, 4, 7, 3, 1, 14, 15, 37, 5, 16, 19, 13] \n",
            "\n",
            "\t****Encontrada mejor solucion: 2044 [0, 28, 8, 23, 41, 10, 12, 25, 11, 18, 27, 6, 26, 35, 36, 17, 31, 34, 20, 33, 22, 38, 39, 40, 24, 21, 9, 29, 30, 2, 32, 4, 7, 3, 1, 14, 15, 37, 13, 16, 19, 5] \n",
            "\n",
            "\t****Encontrada mejor solucion: 2043 [0, 28, 8, 23, 41, 10, 12, 25, 11, 18, 27, 6, 26, 35, 36, 17, 31, 34, 20, 33, 22, 38, 39, 40, 24, 21, 9, 29, 30, 2, 32, 4, 7, 1, 3, 14, 15, 37, 13, 16, 19, 5] \n",
            "\n",
            "\t****Encontrada mejor solucion: 2039 [0, 28, 8, 23, 41, 10, 12, 25, 11, 18, 27, 6, 16, 35, 36, 17, 31, 34, 20, 33, 22, 38, 39, 40, 24, 21, 9, 29, 30, 2, 32, 4, 7, 1, 3, 14, 15, 37, 13, 26, 19, 5] \n",
            "\n",
            "\t****Encontrada mejor solucion: 2037 [0, 30, 8, 23, 41, 10, 12, 25, 11, 18, 5, 6, 16, 35, 36, 17, 31, 34, 20, 33, 22, 38, 39, 40, 24, 21, 9, 29, 28, 2, 32, 4, 7, 1, 3, 14, 15, 37, 13, 26, 19, 27] \n",
            "\n",
            "\t****Encontrada mejor solucion: 1976 [0, 30, 8, 23, 41, 10, 12, 25, 11, 18, 5, 6, 16, 35, 36, 17, 31, 34, 20, 33, 38, 22, 39, 40, 24, 21, 9, 29, 28, 2, 32, 4, 7, 1, 3, 14, 15, 37, 13, 26, 19, 27] \n",
            "\n",
            "\t****Encontrada mejor solucion: 1924 [0, 30, 9, 23, 41, 10, 12, 25, 11, 18, 5, 6, 16, 35, 36, 17, 31, 33, 20, 34, 38, 22, 39, 40, 24, 21, 8, 29, 28, 2, 32, 4, 7, 1, 3, 14, 15, 37, 13, 19, 26, 27] \n",
            "\n",
            "\t****Encontrada mejor solucion: 1921 [0, 30, 9, 23, 41, 10, 12, 25, 11, 18, 5, 6, 16, 35, 36, 17, 31, 33, 20, 34, 38, 22, 39, 40, 24, 21, 8, 29, 28, 2, 32, 4, 7, 27, 3, 14, 15, 37, 13, 19, 26, 1] \n",
            "\n",
            "\t****Encontrada mejor solucion: 1892 [0, 30, 9, 23, 41, 10, 12, 25, 11, 18, 5, 6, 16, 17, 36, 35, 31, 33, 20, 34, 38, 22, 39, 40, 24, 21, 8, 29, 28, 2, 32, 4, 7, 27, 3, 14, 15, 37, 13, 19, 26, 1] \n",
            "\n",
            "\t****Encontrada mejor solucion: 1887 [0, 3, 9, 23, 41, 10, 12, 11, 25, 18, 5, 7, 37, 14, 36, 35, 31, 33, 20, 34, 38, 22, 39, 40, 24, 21, 8, 29, 2, 28, 32, 4, 6, 27, 30, 17, 15, 16, 19, 13, 26, 1] \n",
            "\n",
            "\t****Encontrada mejor solucion: 1806 [0, 3, 9, 23, 41, 10, 12, 11, 25, 18, 5, 7, 37, 14, 36, 35, 31, 33, 20, 34, 38, 22, 39, 40, 24, 21, 8, 29, 30, 28, 32, 4, 6, 27, 2, 17, 15, 16, 19, 13, 26, 1] \n",
            "\n",
            "\t****Encontrada mejor solucion: 1804 [0, 2, 8, 23, 41, 18, 12, 10, 25, 11, 26, 17, 15, 16, 31, 35, 36, 20, 33, 34, 38, 22, 39, 21, 24, 40, 9, 30, 29, 28, 27, 32, 4, 3, 6, 7, 37, 14, 19, 13, 5, 1] \n",
            "\n",
            "\t****Encontrada mejor solucion: 1792 [0, 2, 8, 23, 41, 10, 12, 18, 25, 11, 26, 17, 15, 16, 31, 35, 36, 20, 33, 34, 38, 22, 39, 21, 24, 40, 9, 30, 29, 28, 27, 32, 4, 3, 6, 7, 37, 14, 19, 13, 5, 1] \n",
            "\n",
            "\t****Encontrada mejor solucion: 1783 [0, 27, 8, 23, 41, 10, 12, 18, 25, 11, 26, 7, 15, 16, 31, 35, 36, 20, 33, 34, 38, 22, 39, 21, 24, 40, 9, 30, 29, 28, 6, 2, 4, 3, 32, 17, 37, 14, 19, 13, 5, 1] \n",
            "\n",
            "\t****Encontrada mejor solucion: 1767 [0, 2, 8, 23, 41, 10, 25, 18, 11, 12, 26, 15, 37, 7, 17, 35, 36, 20, 33, 34, 22, 38, 39, 21, 24, 40, 9, 29, 30, 32, 28, 27, 4, 3, 1, 31, 14, 16, 19, 13, 5, 6] \n",
            "\n",
            "\t****Encontrada mejor solucion: 1744 [0, 2, 8, 23, 41, 10, 25, 12, 11, 18, 5, 15, 7, 37, 17, 35, 36, 20, 33, 34, 22, 38, 39, 21, 24, 40, 9, 29, 30, 32, 28, 27, 4, 3, 1, 31, 14, 16, 19, 13, 26, 6] \n",
            "\n",
            "\t****Encontrada mejor solucion: 1692 [0, 2, 8, 23, 41, 10, 25, 12, 11, 18, 5, 15, 7, 31, 17, 35, 36, 20, 33, 34, 22, 38, 39, 21, 24, 40, 9, 29, 30, 32, 28, 27, 4, 3, 1, 37, 14, 16, 19, 13, 26, 6] \n",
            "\n",
            "\t****Encontrada mejor solucion: 1684 [0, 28, 8, 23, 41, 10, 25, 11, 12, 18, 5, 26, 7, 17, 31, 35, 36, 20, 33, 34, 22, 38, 39, 21, 24, 40, 9, 29, 30, 32, 2, 27, 4, 13, 14, 37, 15, 16, 19, 1, 6, 3] \n",
            "\n",
            "\t****Encontrada mejor solucion: 1660 [0, 28, 8, 23, 41, 10, 25, 11, 12, 18, 5, 26, 7, 17, 31, 36, 35, 20, 33, 34, 22, 38, 39, 21, 24, 40, 9, 29, 30, 32, 2, 27, 4, 13, 14, 37, 15, 16, 19, 1, 6, 3] \n",
            "\n",
            "\t****Encontrada mejor solucion: 1650 [0, 32, 8, 10, 41, 23, 25, 11, 12, 18, 5, 26, 7, 17, 31, 36, 35, 20, 33, 34, 38, 22, 39, 21, 24, 40, 9, 29, 30, 28, 4, 27, 2, 13, 14, 15, 37, 16, 19, 1, 6, 3] \n",
            "\n",
            "\t****Encontrada mejor solucion: 1619 [0, 3, 10, 8, 41, 23, 25, 11, 12, 18, 5, 1, 7, 31, 17, 36, 35, 20, 33, 34, 38, 22, 39, 21, 24, 40, 9, 29, 30, 28, 2, 27, 4, 13, 14, 15, 37, 16, 19, 26, 6, 32] \n",
            "\n",
            "\t****Encontrada mejor solucion: 1602 [0, 2, 8, 41, 23, 10, 25, 11, 12, 18, 32, 7, 37, 17, 31, 36, 35, 20, 33, 34, 38, 22, 39, 24, 21, 40, 9, 29, 30, 28, 27, 4, 26, 13, 19, 16, 14, 15, 5, 6, 3, 1] \n",
            "\n",
            "\t****Encontrada mejor solucion: 1586 [0, 27, 10, 8, 23, 41, 25, 11, 12, 18, 26, 7, 17, 37, 31, 36, 35, 20, 33, 34, 38, 22, 39, 24, 40, 21, 9, 29, 30, 32, 28, 2, 3, 13, 19, 16, 15, 14, 5, 6, 4, 1] \n",
            "\n",
            "\t****Encontrada mejor solucion: 1565 [0, 27, 10, 8, 23, 41, 25, 11, 12, 18, 26, 7, 37, 17, 31, 36, 35, 20, 33, 34, 38, 22, 39, 24, 40, 21, 9, 29, 30, 32, 28, 2, 3, 13, 14, 16, 15, 19, 5, 6, 4, 1] \n",
            "\n",
            "\t****Encontrada mejor solucion: 1549 [0, 3, 10, 8, 23, 41, 25, 11, 12, 18, 26, 7, 37, 17, 31, 36, 35, 20, 33, 34, 38, 22, 39, 24, 40, 21, 9, 29, 30, 32, 28, 2, 27, 13, 19, 16, 15, 14, 5, 6, 4, 1] \n",
            "\n",
            "\t****Encontrada mejor solucion: 1528 [0, 4, 10, 8, 23, 41, 25, 11, 12, 18, 3, 27, 32, 31, 17, 36, 35, 33, 20, 34, 38, 22, 39, 24, 40, 21, 9, 29, 30, 28, 2, 5, 26, 13, 19, 16, 14, 15, 37, 7, 6, 1] \n",
            "\n",
            "\t****Encontrada mejor solucion: 1524 [0, 3, 10, 8, 23, 41, 25, 11, 12, 18, 4, 27, 32, 31, 17, 36, 35, 33, 20, 34, 38, 22, 39, 24, 40, 21, 9, 29, 30, 28, 2, 5, 26, 13, 19, 16, 14, 15, 37, 7, 6, 1] \n",
            "\n",
            "\t****Encontrada mejor solucion: 1521 [0, 3, 10, 8, 23, 41, 25, 11, 12, 18, 4, 27, 32, 31, 17, 36, 35, 20, 33, 34, 38, 22, 39, 21, 40, 24, 9, 29, 30, 28, 2, 5, 26, 13, 19, 14, 16, 15, 37, 7, 6, 1] \n",
            "\n",
            "\t****Encontrada mejor solucion: 1511 [0, 4, 10, 8, 23, 41, 25, 11, 12, 18, 3, 27, 32, 31, 17, 36, 35, 20, 33, 34, 38, 22, 39, 21, 40, 24, 9, 29, 30, 28, 2, 26, 5, 13, 19, 14, 16, 15, 37, 7, 6, 1] \n",
            "\n",
            "\t****Encontrada mejor solucion: 1504 [0, 2, 10, 8, 23, 41, 25, 11, 12, 18, 26, 3, 32, 31, 17, 36, 35, 20, 33, 34, 38, 22, 39, 21, 24, 40, 9, 29, 30, 28, 27, 4, 5, 13, 19, 16, 14, 15, 37, 7, 6, 1] \n",
            "\n",
            "\t****Encontrada mejor solucion: 1502 [0, 4, 10, 8, 23, 41, 25, 11, 12, 18, 26, 27, 32, 31, 17, 36, 35, 20, 33, 34, 38, 22, 39, 21, 24, 40, 9, 29, 30, 28, 2, 6, 5, 13, 19, 14, 16, 15, 37, 7, 1, 3] \n",
            "\n",
            "\t****Encontrada mejor solucion: 1500 [0, 2, 10, 8, 23, 41, 25, 11, 12, 18, 26, 4, 32, 31, 17, 36, 35, 20, 33, 34, 38, 22, 39, 24, 40, 21, 9, 29, 30, 28, 27, 6, 5, 13, 19, 14, 16, 15, 37, 7, 1, 3] \n",
            "\n",
            "La mejor solución encontrada es : 1500 [0, 2, 10, 8, 23, 41, 25, 11, 12, 18, 26, 4, 32, 31, 17, 36, 35, 20, 33, 34, 38, 22, 39, 24, 40, 21, 9, 29, 30, 28, 27, 6, 5, 13, 19, 14, 16, 15, 37, 7, 1, 3]\n"
          ],
          "name": "stdout"
        }
      ]
    },
    {
      "cell_type": "code",
      "metadata": {
        "id": "YD6DJvFtrBge",
        "colab_type": "code",
        "colab": {
          "base_uri": "https://localhost:8080/",
          "height": 71
        },
        "outputId": "a9ad1434-ccd3-4b3f-edb5-0a62a921e560"
      },
      "source": [
        "# Algoritmo colonia de hormigas\n",
        "\n",
        "def Add_Nodo(problem, H ,T ) :\n",
        "  #Establecer una una funcion de probabilidad para \n",
        "  # añadir un nuevo nodo dependiendo de los nodos mas cercanos y de las feromonas depositadas\n",
        "  Nodos = list(problem.get_nodes())\n",
        "  return random.choice(   list(set(range(1,len(Nodos))) - set(H) )  )\n",
        "\n",
        "\n",
        "def Incrementa_Feromona(problem, T, H):\n",
        "  #Incrementar segun la calidad de la solución. Añadir una cantidad inversamente proporcional a la distancia total \n",
        "  for i in range(len(H)-1):\n",
        "    T[H[i]][H[i+1]] += 1000/distancia_total(H, problem)\n",
        "  return T\n",
        "\n",
        "def Evaporar_Feromonas(T):\n",
        "  #Podemos elegir diferentes funciones de evaporación dependiendo de la cantidad actual y de la suma total de feromonas depositadas,...\n",
        "  #Evapora 0.3 el valor de la feromona, sin que baje de 1\n",
        "  T = [[ max(T[i][j] - 0.3 , 1) for i in range(len(Nodos)) ] for j in range(len(Nodos))]\n",
        "  return T\n",
        "def hormigas(problem, N) :\n",
        "  #problem = datos del problema\n",
        "  #N = Número de agentes(hormigas)\n",
        "    \n",
        "  #Nodos\n",
        "  Nodos = list(problem.get_nodes())\n",
        "    #Aristas\n",
        "  Aristas = list(problem.get_edges()) \n",
        "  \n",
        "  #Inicializa las aristas con una cantidad inicial de feromonas:1\n",
        "  T = [[ 1 for _ in range(len(Nodos)) ] for _ in range(len(Nodos))]\n",
        "  \n",
        "  #Se generan los agentes(hormigas) que serán estructuras de caminos desde 0\n",
        "  Hormiga = [[0] for _ in range(N)]\n",
        "\n",
        "   #Recorre cada agente construyendo la solución\n",
        "  for h in range(N) :\n",
        "    #print(\"\\nAgente:\", h)\n",
        "    #Para cada agente se construye un camino\n",
        "    for i in range(len(Nodos)-1) :\n",
        "      \n",
        "      #Elige el siguiente nodo\n",
        "      Nuevo_Nodo = Add_Nodo(problem, Hormiga[h] ,T )\n",
        "      \n",
        "      Hormiga[h].append(Nuevo_Nodo)     \n",
        "    \n",
        "    #Incrementa feromonas en esa arista \n",
        "    T = Incrementa_Feromona(problem, T, Hormiga[h] )\n",
        "    #print(\"Feromonas(1)\", T)\n",
        "      \n",
        "    #Evapora Feromonas  \n",
        "    T = Evaporar_Feromonas(T)\n",
        "    #print(\"Feromonas(2)\", T)\n",
        "\n",
        "    #Seleccionamos el mejor agente\n",
        "  mejor_solucion = []\n",
        "  mejor_distancia = 10e100\n",
        "  for h in range(N) :\n",
        "    distancia_actual = distancia_total(Hormiga[h], problem)\n",
        "    if distancia_actual < mejor_distancia:\n",
        "      mejor_solucion = Hormiga[h]\n",
        "      mejor_distancia =distancia_actual\n",
        "  \n",
        "  \n",
        "  print(mejor_solucion)\n",
        "  print(mejor_distancia)\n",
        "\n",
        "hormigas(problem, 10000 )"
      ],
      "execution_count": 96,
      "outputs": [
        {
          "output_type": "stream",
          "text": [
            "[0, 32, 29, 11, 21, 39, 9, 22, 18, 26, 19, 12, 10, 23, 28, 5, 7, 8, 3, 40, 25, 36, 35, 30, 37, 14, 4, 15, 17, 2, 31, 33, 34, 20, 6, 27, 13, 1, 16, 38, 41, 24]\n",
            "3778\n"
          ],
          "name": "stdout"
        }
      ]
    },
    {
      "cell_type": "code",
      "metadata": {
        "id": "xiHqT7PytO3G",
        "colab_type": "code",
        "colab": {}
      },
      "source": [
        ""
      ],
      "execution_count": 0,
      "outputs": []
    },
    {
      "cell_type": "code",
      "metadata": {
        "id": "C53usoyesDMG",
        "colab_type": "code",
        "colab": {}
      },
      "source": [
        ""
      ],
      "execution_count": 0,
      "outputs": []
    }
  ]
}