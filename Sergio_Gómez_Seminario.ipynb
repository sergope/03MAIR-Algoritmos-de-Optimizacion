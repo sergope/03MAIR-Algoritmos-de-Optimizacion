{
  "nbformat": 4,
  "nbformat_minor": 0,
  "metadata": {
    "colab": {
      "name": "Sergio Gómez - Seminario.ipynb",
      "provenance": [],
      "collapsed_sections": [],
      "authorship_tag": "ABX9TyM/m2Vcv1TchGUdLGK9uaur",
      "include_colab_link": true
    },
    "kernelspec": {
      "name": "python3",
      "display_name": "Python 3"
    }
  },
  "cells": [
    {
      "cell_type": "markdown",
      "metadata": {
        "id": "view-in-github",
        "colab_type": "text"
      },
      "source": [
        "<a href=\"https://colab.research.google.com/github/sergope/03MAIR-Algoritmos-de-Optimizacion/blob/master/Sergio_G%C3%B3mez_Seminario.ipynb\" target=\"_parent\"><img src=\"https://colab.research.google.com/assets/colab-badge.svg\" alt=\"Open In Colab\"/></a>"
      ]
    },
    {
      "cell_type": "markdown",
      "metadata": {
        "id": "3z1OHorn3y_L",
        "colab_type": "text"
      },
      "source": [
        "Sergio Gómez Pérez <br>\n",
        "Seminario Algoritmos de optimización, problema 1 <br>\n",
        "URL: https://colab.research.google.com/drive/1BfBitqted8DCyfFL9SpDPhsCa4MdjHYk <br>\n"
      ]
    },
    {
      "cell_type": "markdown",
      "metadata": {
        "id": "SAVOznPYYQvr",
        "colab_type": "text"
      },
      "source": [
        "## Problema 1. \n",
        "### Organizar sesiones de doblaje <br>\n",
        "• Se precisa coordinar el doblaje de una película.  <br>\n",
        "• Los actores del doblaje deben coincidir en las tomas en las que sus personajes aparecen juntos en las diferentes tomas.  <br>\n",
        "• Los actores de doblaje cobran todos la misma cantidad por cada día que deben desplazarse hasta el estudio de grabación independientemente del número de tomas que se graben. <br>\n",
        "• No es posible grabar más de 6 tomas por día. <br>\n",
        "• El objetivo es planificar las sesiones por día de manera que se gasto\n",
        "por los servicios de los actores de doblaje sea el menor posible <br> <br>\n",
        "\n",
        "\n",
        "Número de actores: 10 <br>\n",
        "Número de tomas : 30 <br>\n",
        "Actores/Tomas : https://bit.ly/36D8IuK <br>\n",
        "\n",
        "1 indica que el actor participa en la toma <br>\n",
        "0 en caso contrario <br>\n"
      ]
    },
    {
      "cell_type": "markdown",
      "metadata": {
        "id": "Lb61jEEZ49H9",
        "colab_type": "text"
      },
      "source": [
        "Debemos tener en cuenta que nos encontramos frente a una variante del problema del viajero y por lo tanto un problema NP. De forma que no disponemos de una ecuación que nos permita llegar a una solución genérica. <br>\n",
        "\n",
        "La única forma que tenemos de asegurarnos de que hemos obtenido la solución óptima es recorrer todas las posibilidades, es decir, crear un algoritmo que resuelva el problema por fuerza bruta. Esto no es una tarea sencilla ya que se trata de un problema con **complejidad factorial** cuyo número de posibles soluciones es el siguiente: <br>\n",
        " ### 30! = 2.65 * 10^32\n",
        "\n",
        "(Sin tener en cuenta las restricciones)\n",
        "\n"
      ]
    },
    {
      "cell_type": "markdown",
      "metadata": {
        "id": "vkuwYNCsQeLB",
        "colab_type": "text"
      },
      "source": [
        "## Solución al problema\n",
        "\n",
        "Antes de empezar a programar nada debemos tener claro cuál es nuestro objetivo. En este caso necesitamos cuadrar los horarios de los actores para conseguir rodar un total de 30 tomas con el menor coste posible.\n",
        "\n",
        "El coste vendrá indicado por la cantidad de días que trabaje cada actor, y debemos tener en cuenta la restricción de que no es posible rodar más de 6 tomás en un díay que todos los actores deben estar juntos al rodar una misma toma.\n",
        "\n",
        "Para ello nuestro objetivo va a ser obtener como resultado una matriz Nx10, donde N es el número de días de rodaje y 10 el número de actores. Además cada casilla de la matriz indicará la cantidad de escenas que un actor ha rodado ese día.\n",
        "\n",
        "Una vez conseguida esta matriz solución el cálculo del coste es muy sencillo. Lo único que debemos hacer es recorrer todas las celdas de esta matriz y sumar 1 al coste cuando el actor haya rodado 1 o más escenas (solo sumamos 1 ya que los actores cobran por día y no por toma). Por ejemplo, una matriz solución podría ser la siguiente: \n",
        "<br>\n",
        "\n",
        "  **día 1: [3 5 2 4 4 0 2 2 0 0]** <br>\n",
        "  **día 2: [6 6 2 3 2 3 0 1 1 0]** <br>\n",
        "  **día 3: [4 1 3 2 1 2 1 0 0 1]** <br>\n",
        "  **día 4: [4 1 5 2 1 2 0 1 0 0]** <br>\n",
        "  **día 5: [5 1 1 4 3 1 0 0 1 1]** <br>\n",
        "\n",
        "\n",
        "Como se puede apreciar en esta solución la cantídad de días de doblaje son 5, y si sumamos cuantos días ha tenido que rodar cada actor obtendremos el coste total. <br>\n",
        "En este caso el **coste total** es de: **38**\n",
        "\n",
        "\n",
        "### Solución óptima\n",
        "\n",
        "A continuación vamos a calcular cuál sería el mínimo coste que podríamos obtener únicamente teniendo en cuenta el nº de escenas de cada actor y la limitación de 6 escenas por día. Para ello basta con calcular el mínimo coste para cada actor y sumarlo al final.\n",
        "Por ejemplo, el primer actor tiene un total de 22 tomas. Como puede no rodar más de 6 por día tenemos que: <br>\n",
        "22 / 6 = 3.66 -> redondeando sacamos que necesita un mínimo de 4 días, es decir, coste = 4\n",
        "\n",
        "El segundo actor tiene un total de 14 tomas por lo que:\n",
        "14 / 6 = 2.33 -> necesita un mínimo de 3 días. Coste = 3\n",
        "\n",
        "Si repetimos este proceso para los 10 actores obtenemos que el **coste mínimo teórico es de 21**, sin embargo es posible que nunca podamos obtener este coste ya que no estamos teniendo en cuenta la restricción de que todos los actores de una misma toma deben rodar juntos el mismo día. <br>\n",
        "Sabiendo estas características del problema ya estamos en condiciones de poder abordarlo."
      ]
    },
    {
      "cell_type": "markdown",
      "metadata": {
        "id": "BzU9-fMoQGSW",
        "colab_type": "text"
      },
      "source": [
        "### En primer lugar vamos a inicializar los datos del problema\n"
      ]
    },
    {
      "cell_type": "code",
      "metadata": {
        "id": "tLg-UFjFYnK2",
        "colab_type": "code",
        "outputId": "3240361a-1b32-4e26-f966-aaffb8a7305d",
        "colab": {
          "base_uri": "https://localhost:8080/",
          "height": 85
        }
      },
      "source": [
        "import numpy as np\n",
        "\n",
        "data = np.array([[1,1,1,1,1,0,0,0,0,0],[0,0,1,1,1,0,0,0,0,0],[0,1,0,0,1,0,1,0,0,0],[1,1,0,0,0,0,1,1,0,0],[0,1,0,1,0,0,0,1,0,0],[1,1,0,1,1,0,0,0,0,0],\n",
        "[1,1,0,1,1,0,0,0,0,0],[1,1,0,0,0,1,0,0,0,0],[1,1,0,1,0,0,0,0,0,0],[1,1,0,0,0,1,0,0,1,0],[1,1,1,0,1,0,0,1,0,0],[1,1,1,1,0,1,0,0,0,0],\n",
        "[1,0,0,1,1,0,0,0,0,0],[1,0,1,0,0,1,0,0,0,0],[1,1,0,0,0,0,1,0,0,0],[0,0,0,1,0,0,0,0,0,1],[1,0,1,0,0,0,0,0,0,0],[0,0,1,0,0,1,0,0,0,0],\n",
        "[1,0,1,0,0,0,0,0,0,0],[1,0,1,1,1,0,0,0,0,0],[0,0,0,0,0,1,0,1,0,0],[1,1,1,1,0,0,0,0,0,0],[1,0,1,0,0,0,0,0,0,0],[0,0,1,0,0,1,0,0,0,0],\n",
        "[1,1,0,1,0,0,0,0,0,1],[1,0,1,0,1,0,0,0,1,0],[0,0,0,1,1,0,0,0,0,0],[1,0,0,1,0,0,0,0,0,0],[1,0,0,0,1,1,0,0,0,0],[1,0,0,1,0,0,0,0,0,0]])\n",
        "\n",
        "numero_actores = data.shape[1]\n",
        "numero_tomas = data.shape[0]\n",
        "max_tomas_por_dia = 6\n",
        "mejor_coste = 99999\n",
        "mejor_coste_teorico = 21\n",
        "\n",
        "print('Número de actores: ',numero_actores)\n",
        "print('Número de tomas: ', numero_tomas)\n",
        "print('Máximo nº de tomas por día: ',max_tomas_por_dia)\n",
        "print('Mejor coste teórico: ', mejor_coste_teorico)"
      ],
      "execution_count": 34,
      "outputs": [
        {
          "output_type": "stream",
          "text": [
            "Número de actores:  10\n",
            "Número de tomas:  30\n",
            "Máximo nº de tomas por día:  6\n",
            "Mejor coste teórico:  21\n"
          ],
          "name": "stdout"
        }
      ]
    },
    {
      "cell_type": "markdown",
      "metadata": {
        "id": "ri2uek2BcxMG",
        "colab_type": "text"
      },
      "source": [
        "## Solución básica"
      ]
    },
    {
      "cell_type": "code",
      "metadata": {
        "id": "Dv7OT8Hra11-",
        "colab_type": "code",
        "outputId": "f839f1e6-4df5-4fe1-8c46-a8badc0259e0",
        "colab": {
          "base_uri": "https://localhost:8080/",
          "height": 136
        }
      },
      "source": [
        "# Solución básica\n",
        "\n",
        "# Función que calcula el coste total de la matriz solución\n",
        "def calcula_coste(matriz_solucion):\n",
        "  matriz_coste = np.zeros(10, dtype=int)\n",
        "  # Recorremos la matriz solución y sumamos los días que a actuado un actor en una matriz de coste\n",
        "  for dia in matriz_solucion:\n",
        "    for act in range(len(dia)):\n",
        "      # Si es mayor que 0 significa que ha actuado ese día y sumamos 1 a la posición correspondiente de la matriz de coste\n",
        "      if dia[act] > 0:\n",
        "        matriz_coste[act] += 1\n",
        "  # Sumamos todos los valores de la matriz de coste para devolver el coste total\n",
        "  return np.sum(matriz_coste)\n",
        "\n",
        "def calcula_solucion(tomas, maximo_tomas):\n",
        "  matriz_solucion = [np.zeros(10, dtype=int)]\n",
        "  dia = 0\n",
        "  n_tomas = 0\n",
        "\n",
        "  for toma in tomas:\n",
        "    # si el nº de tomas es mayor a 6 guardamos el día acutal y pasamos a un nuevo día en la matriz solución\n",
        "    if (n_tomas >= maximo_tomas):\n",
        "      n_tomas = 0\n",
        "      dia += 1\n",
        "      # Cargamos el nuevo día a cero en la matriz solución\n",
        "      matriz_solucion = np.append(matriz_solucion, [np.zeros(10, dtype=int)], axis=0)\n",
        "\n",
        "    # Sobre el día actual de la matriz solución sumamos una toma\n",
        "    matriz_solucion[dia] = np.add(matriz_solucion[dia], toma)\n",
        "    n_tomas +=1\n",
        "\n",
        "  coste = calcula_coste(matriz_solucion)\n",
        "\n",
        "  return coste, matriz_solucion\n",
        "\n",
        "\n",
        "solucion = calcula_solucion(data, max_tomas_por_dia)\n",
        "print('Coste: ', solucion[0])\n",
        "print('Solución: \\n', solucion[1])\n"
      ],
      "execution_count": 36,
      "outputs": [
        {
          "output_type": "stream",
          "text": [
            "Coste:  38\n",
            "Solución: \n",
            " [[3 5 2 4 4 0 2 2 0 0]\n",
            " [6 6 2 3 2 3 0 1 1 0]\n",
            " [4 1 3 2 1 2 1 0 0 1]\n",
            " [4 1 5 2 1 2 0 1 0 0]\n",
            " [5 1 1 4 3 1 0 0 1 1]]\n"
          ],
          "name": "stdout"
        }
      ]
    },
    {
      "cell_type": "markdown",
      "metadata": {
        "id": "k33bhRldfryj",
        "colab_type": "text"
      },
      "source": [
        "El coste obtenido ha sido 38. Como vemos todavía está algo lejos de 21 que es el óptimo teórico. Vamo a ver que podemos hacer para mejorar esta solución."
      ]
    },
    {
      "cell_type": "markdown",
      "metadata": {
        "id": "FJE04oyGZ505",
        "colab_type": "text"
      },
      "source": [
        "### Solución por fuerza bruta\n",
        "Para hayar la mejor solución por este método habría que explorar todas las soluciones posibles. Para ello \"simplemente\" bastaría con ejecutar el algoritmo anterior de solución básica tantas veces como posibilidades haya de distribuir las tomas (filas).<br>\n",
        "Como ya se ha indicado, este problema tiene una complejidad factorial del orden de 30!. El coste computacional de este método es demasiado grande y disponemos de otros métodos que nos van a proporcionar, si no bien la mejor solución, soluciones óptimas en un tiempo mucho más reducido y manejable."
      ]
    },
    {
      "cell_type": "markdown",
      "metadata": {
        "id": "JheH8ofTgY4b",
        "colab_type": "text"
      },
      "source": [
        "## Intercambio aleatorio de filas\n",
        "\n",
        "Para este método lo que vamos a hacer generar una solución básica de la cuál obtendremos un coste. Tras eso vamos a intercambiar 2 filas de manera aleatoria y obtener de nuevo una solución. Esta segunda solución la vamos a comparar con la anterior, y en caso de tener un mejor coste que la anterior nos quedaremos con ella. Este proceso se repetirá tantas veces como se indique mediante el parámetro **intentos**"
      ]
    },
    {
      "cell_type": "code",
      "metadata": {
        "id": "qDQY-0QZYgvu",
        "colab_type": "code",
        "outputId": "731100d0-0be6-42b7-ac03-b71144622f7a",
        "colab": {
          "base_uri": "https://localhost:8080/",
          "height": 1000
        }
      },
      "source": [
        "def intercambia_fila_aleatoria(data, intentos, mejor_coste, max_tomas_por_dia):\n",
        "  # creamos una copia de los datos ya que con el intercambio de filas vamos a modificar la matriz constantemente y no queremos tocar la original\n",
        "  copia_data = np.copy(data)\n",
        "  for intento in range(intentos):\n",
        "    # obtenemos una solución genérica\n",
        "    solucion = calcula_solucion(copia_data, max_tomas_por_dia)\n",
        "    # Si obtenemos una mejor solución la guardamos\n",
        "    if (solucion[0] < mejor_coste):\n",
        "      mejor_coste = solucion[0]\n",
        "      mejor_matriz_solucion = solucion[1]\n",
        "      print('coste: ', mejor_coste)\n",
        "      print('solucion: \\n', mejor_matriz_solucion)\n",
        "\n",
        "      if mejor_coste == mejor_coste_teorico:\n",
        "        return mejor_coste, mejor_matriz_solucion\n",
        "\n",
        "    # generamos 2 número aleatorios entre 0 y 29 para intercambiar esas filas\n",
        "    random = np.random.randint(low=0, high=30, size=2)\n",
        "    t = np.copy(copia_data[random[0]])\n",
        "    copia_data[random[0]] = copia_data[random[1]]\n",
        "    copia_data[random[1]] = t\n",
        "\n",
        "  return mejor_coste, mejor_matriz_solucion\n",
        "\n",
        "# Definimos el nº de intentos\n",
        "intentos = 10000\n",
        "%time solucion = intercambia_fila_aleatoria(data, intentos, mejor_coste, max_tomas_por_dia)\n",
        "print('\\n\\n')\n",
        "print('Mejor coste: ', solucion[0])\n",
        "print('Mejor solucion: \\n', solucion[1])"
      ],
      "execution_count": 0,
      "outputs": [
        {
          "output_type": "stream",
          "text": [
            "coste:  38\n",
            "solucion: \n",
            " [[3 5 2 4 4 0 2 2 0 0]\n",
            " [6 6 2 3 2 3 0 1 1 0]\n",
            " [4 1 3 2 1 2 1 0 0 1]\n",
            " [4 1 5 2 1 2 0 1 0 0]\n",
            " [5 1 1 4 3 1 0 0 1 1]]\n",
            "coste:  37\n",
            "solucion: \n",
            " [[3 5 2 4 4 0 2 2 0 0]\n",
            " [6 6 2 3 2 3 0 1 1 0]\n",
            " [4 2 3 3 1 1 1 0 0 1]\n",
            " [4 0 5 1 1 3 0 1 0 0]\n",
            " [5 1 1 4 3 1 0 0 1 1]]\n",
            "coste:  36\n",
            "solucion: \n",
            " [[4 2 3 2 2 3 0 0 1 0]\n",
            " [5 3 2 5 4 0 1 0 0 0]\n",
            " [4 4 2 3 3 0 2 2 1 0]\n",
            " [5 2 3 3 2 1 0 1 0 1]\n",
            " [4 3 3 2 0 4 0 1 0 1]]\n",
            "coste:  35\n",
            "solucion: \n",
            " [[5 3 2 3 0 2 1 2 0 0]\n",
            " [3 4 2 5 5 0 1 0 0 1]\n",
            " [4 0 3 4 3 1 0 0 0 0]\n",
            " [4 4 3 1 2 2 1 2 2 0]\n",
            " [6 3 3 2 1 3 0 0 0 1]]\n",
            "coste:  34\n",
            "solucion: \n",
            " [[4 2 2 6 3 0 0 0 0 1]\n",
            " [6 2 2 4 2 2 0 0 0 1]\n",
            " [3 3 2 1 2 1 3 1 0 0]\n",
            " [5 2 4 0 1 4 0 0 2 0]\n",
            " [4 5 3 4 3 1 0 3 0 0]]\n",
            "coste:  33\n",
            "solucion: \n",
            " [[4 4 0 4 2 0 2 1 0 2]\n",
            " [5 3 4 2 0 3 0 0 1 0]\n",
            " [5 3 3 1 2 3 0 2 0 0]\n",
            " [5 4 3 5 4 0 1 0 0 0]\n",
            " [3 0 3 3 3 2 0 1 1 0]]\n",
            "coste:  31\n",
            "solucion: \n",
            " [[2 2 3 3 2 4 0 1 0 0]\n",
            " [5 2 4 4 2 0 0 0 0 0]\n",
            " [6 3 4 2 3 3 0 0 2 0]\n",
            " [4 4 2 0 2 1 3 3 0 0]\n",
            " [5 3 0 6 2 0 0 0 0 2]]\n",
            "CPU times: user 1.46 s, sys: 3.16 ms, total: 1.46 s\n",
            "Wall time: 1.46 s\n",
            "\n",
            "\n",
            "\n",
            "Mejor coste:  31\n",
            "Mejor solucion: \n",
            " [[2 2 3 3 2 4 0 1 0 0]\n",
            " [5 2 4 4 2 0 0 0 0 0]\n",
            " [6 3 4 2 3 3 0 0 2 0]\n",
            " [4 4 2 0 2 1 3 3 0 0]\n",
            " [5 3 0 6 2 0 0 0 0 2]]\n"
          ],
          "name": "stdout"
        }
      ]
    },
    {
      "cell_type": "markdown",
      "metadata": {
        "id": "Y9v8HN9ujc-7",
        "colab_type": "text"
      },
      "source": [
        "Podemos ver que con este método y ejecutanto unos **10000 intentos** hemos obtenido una solución de **coste 31** en apenas **1.46s** lo cual ya es un resultado decente.\n",
        "\n",
        "En mis pruebas he lanzado este algoritmo varias veces con cientos de millones de intentos, los cuales requerían de entre 30 y 60 minutos de cálculo. El mínimo coste obtenido en todas esas ocasiones ha sido 30, por lo que creo que ese podría ser el límite para este método."
      ]
    },
    {
      "cell_type": "markdown",
      "metadata": {
        "id": "_ov1FGS3jlB_",
        "colab_type": "text"
      },
      "source": [
        "## Intercambiar filas a partir de la mejor solución\n",
        "\n",
        "Para este algoritmo vamos a realizar una variante del método anterior. En este caso vamos obtener dos soluciones y nos vamos quedar con la que tenga un mejor coste de las dos. Una vez hecho esto volveremos a obtener otras dos soluciones a partir de esa mejor solución. <br>\n",
        "\n",
        "De esta forma lo que se pretende es explorar múltiples opciones y trabajar trabajar a partir de la mejor. <br>\n",
        "\n",
        "Para evitar posibles repeticiones e intentar acelerar el proceso, en la búsqueda de la primera solución se intercambiará solo una fila mientras que en la segunda se intercambiarán dos filas.\n",
        "\n"
      ]
    },
    {
      "cell_type": "code",
      "metadata": {
        "id": "DA4WjcLQ8qQB",
        "colab_type": "code",
        "outputId": "ebb0db36-5fac-4a42-aabc-7abeef4be81c",
        "colab": {
          "base_uri": "https://localhost:8080/",
          "height": 816
        }
      },
      "source": [
        "# función que intercambia una fila por otra\n",
        "def intercambia_fila(matriz):\n",
        "    random = np.random.randint(low=0, high=30, size=2)\n",
        "    t = np.copy(matriz[random[0]])\n",
        "    matriz[random[0]] = matriz[random[1]]\n",
        "    matriz[random[1]] = t\n",
        "    return matriz\n",
        "\n",
        "# función que intercambia 2 filas aleatorias con otras 2\n",
        "def intercambia_2_filas(matriz):\n",
        "    random = np.random.randint(low=0, high=30, size=4)\n",
        "    t = np.copy(matriz[random[0]])\n",
        "    matriz[random[0]] = matriz[random[1]]\n",
        "    matriz[random[1]] = t\n",
        "    y = np.copy(matriz[random[2]])\n",
        "    matriz[random[2]] = matriz[random[3]]\n",
        "    matriz[random[3]] = y\n",
        "    return matriz\n",
        "\n",
        "def buscar_solucion(data, intentos, mejor_coste, max_tomas_por_dia):\n",
        "  copia_data_1 = np.copy(data)\n",
        "  copia_data_2 = np.copy(data)\n",
        "  # hacemos 2 copias e intercambiamos una fila en la segunda\n",
        "  copia_data_2 = intercambia_fila(copia_data_2)\n",
        "  for intento in range(intentos):\n",
        "    # cálculamos 2 soluciones\n",
        "    solucion_1 = calcula_solucion(copia_data_1, max_tomas_por_dia)\n",
        "    solucion_2 = calcula_solucion(copia_data_2, max_tomas_por_dia)\n",
        "\n",
        "    # Nos quedamos con la matriz de la mejor solucion de las 2 \n",
        "    if solucion_1[0] < solucion_2[0]:\n",
        "      solucion = solucion_1\n",
        "      copia_data_2 = copia_data_1\n",
        "    else:\n",
        "      solucion = solucion_2\n",
        "      copia_data_1 = copia_data_2\n",
        "  \n",
        "    # Evaluamos si el coste la mejor solución es mejor que el que teníamos\n",
        "    if (solucion[0] < mejor_coste):\n",
        "      mejor_coste = solucion[0]\n",
        "      mejor_matriz_solucion = solucion[1]\n",
        "      print('coste: ', mejor_coste)\n",
        "      print('solucion: \\n', mejor_matriz_solucion)\n",
        "\n",
        "      # comprobamos si hemos llegado al límite teórico\n",
        "      if mejor_coste == mejor_coste_teorico:\n",
        "        return mejor_coste, mejor_matriz_solucion\n",
        "\n",
        "    # intercambiamos 1 y 2 filas\n",
        "    copia_data_1 = intercambia_fila(copia_data_1)\n",
        "    copia_data_2 = intercambia_2_filas(copia_data_2)\n",
        "  \n",
        "  return mejor_coste, mejor_matriz_solucion\n",
        "\n",
        "intentos = 10000\n",
        "%time solucion = buscar_solucion(data, intentos, mejor_coste, max_tomas_por_dia)\n",
        "print('\\n\\n')\n",
        "print('coste: ', solucion[0])\n",
        "print('solucion: \\n', solucion[1])"
      ],
      "execution_count": 0,
      "outputs": [
        {
          "output_type": "stream",
          "text": [
            "coste:  38\n",
            "solucion: \n",
            " [[3 5 2 4 4 0 2 2 0 0]\n",
            " [6 6 2 3 2 3 0 1 1 0]\n",
            " [4 1 3 2 1 2 1 0 0 1]\n",
            " [4 1 5 2 1 2 0 1 0 0]\n",
            " [5 1 1 4 3 1 0 0 1 1]]\n",
            "coste:  36\n",
            "solucion: \n",
            " [[3 5 2 4 4 0 2 2 0 0]\n",
            " [6 5 3 2 2 3 0 1 2 0]\n",
            " [4 1 3 2 1 2 1 0 0 1]\n",
            " [4 0 4 2 1 2 0 1 0 0]\n",
            " [5 3 1 5 3 1 0 0 0 1]]\n",
            "coste:  34\n",
            "solucion: \n",
            " [[4 2 4 4 3 2 0 0 0 0]\n",
            " [6 3 2 2 3 3 0 0 2 0]\n",
            " [5 4 3 1 2 1 3 1 0 0]\n",
            " [3 0 2 3 0 2 0 1 0 1]\n",
            " [4 5 2 5 3 0 0 2 0 1]]\n",
            "coste:  33\n",
            "solucion: \n",
            " [[3 1 4 3 3 2 0 0 0 0]\n",
            " [6 2 3 1 3 4 0 0 2 0]\n",
            " [5 4 2 2 2 0 3 1 0 0]\n",
            " [5 3 2 5 0 1 0 0 0 2]\n",
            " [3 4 2 4 3 1 0 3 0 0]]\n",
            "coste:  32\n",
            "solucion: \n",
            " [[4 0 3 5 3 0 0 0 0 0]\n",
            " [5 4 1 4 4 2 1 0 0 0]\n",
            " [4 3 3 0 1 2 2 3 0 0]\n",
            " [5 4 3 3 3 1 0 1 2 0]\n",
            " [4 3 3 3 0 3 0 0 0 2]]\n",
            "CPU times: user 3.01 s, sys: 2.46 ms, total: 3.01 s\n",
            "Wall time: 3.01 s\n",
            "\n",
            "\n",
            "\n",
            "coste:  32\n",
            "solucion: \n",
            " [[4 0 3 5 3 0 0 0 0 0]\n",
            " [5 4 1 4 4 2 1 0 0 0]\n",
            " [4 3 3 0 1 2 2 3 0 0]\n",
            " [5 4 3 3 3 1 0 1 2 0]\n",
            " [4 3 3 3 0 3 0 0 0 2]]\n"
          ],
          "name": "stdout"
        }
      ]
    },
    {
      "cell_type": "markdown",
      "metadata": {
        "id": "nthaAcSQqXX3",
        "colab_type": "text"
      },
      "source": [
        "Para el mismo número de intentos este algoritmo es algo más lento que el anterior. Este se explica fácilmente ya que en **cada intento tiene que buscar el doble de soluciones**.\n",
        "\n",
        "En cuanto al resultado es parecido al anterior. Un coste de 32 en 3.01s.\n",
        "\n",
        "Además, como ocurre en el algoritmo anterior, por mucho que aumentemos el número de intentos nunca se consigue bajar de coste 30."
      ]
    }
  ]
}