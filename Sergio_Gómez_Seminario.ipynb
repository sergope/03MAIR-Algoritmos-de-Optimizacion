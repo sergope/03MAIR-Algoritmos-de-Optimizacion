{
  "nbformat": 4,
  "nbformat_minor": 0,
  "metadata": {
    "colab": {
      "name": "Sergio Gómez - Seminario.ipynb",
      "provenance": [],
      "collapsed_sections": [],
      "authorship_tag": "ABX9TyMsHAvU9Lqm/9Zf1wv6qC+B",
      "include_colab_link": true
    },
    "kernelspec": {
      "name": "python3",
      "display_name": "Python 3"
    }
  },
  "cells": [
    {
      "cell_type": "markdown",
      "metadata": {
        "id": "view-in-github",
        "colab_type": "text"
      },
      "source": [
        "<a href=\"https://colab.research.google.com/github/sergope/03MAIR-Algoritmos-de-Optimizacion/blob/master/Sergio_G%C3%B3mez_Seminario.ipynb\" target=\"_parent\"><img src=\"https://colab.research.google.com/assets/colab-badge.svg\" alt=\"Open In Colab\"/></a>"
      ]
    },
    {
      "cell_type": "markdown",
      "metadata": {
        "id": "SAVOznPYYQvr",
        "colab_type": "text"
      },
      "source": [
        "## Problema 1. \n",
        "### Organizar sesiones de doblaje <br>\n",
        "• Se precisa coordinar el doblaje de una película.  <br>\n",
        "• Los actores del doblaje deben coincidir en las tomas en las que sus personajes aparecen juntos en las diferentes tomas.  <br>\n",
        "• Los actores de doblaje cobran todos la misma cantidad por cada día que deben desplazarse hasta el estudio de grabación independientemente del número de tomas que se graben. <br>\n",
        "• No es posible grabar más de 6 tomas por día. <br>\n",
        "• El objetivo es planificar las sesiones por día de manera que se gasto\n",
        "por los servicios de los actores de doblaje sea el menor posible <br> <br>\n",
        "\n",
        "\n",
        "Número de actores: 10 <br>\n",
        "Número de tomas : 30 <br>\n",
        "Actores/Tomas : https://bit.ly/36D8IuK <br>\n",
        "\n",
        "1 indica que el actor participa en la toma <br>\n",
        "0 en caso contrario <br>\n"
      ]
    },
    {
      "cell_type": "code",
      "metadata": {
        "id": "tLg-UFjFYnK2",
        "colab_type": "code",
        "colab": {}
      },
      "source": [
        "import numpy as np\n",
        "import pprint"
      ],
      "execution_count": 0,
      "outputs": []
    },
    {
      "cell_type": "code",
      "metadata": {
        "id": "9UoEc6Iha9ik",
        "colab_type": "code",
        "outputId": "2da1ffb4-53ef-41b4-a140-8403dc12334f",
        "colab": {
          "base_uri": "https://localhost:8080/",
          "height": 527
        }
      },
      "source": [
        "data = np.array([[1,1,1,1,1,0,0,0,0,0],[0,0,1,1,1,0,0,0,0,0],[0,1,0,0,1,0,1,0,0,0],[1,1,0,0,0,0,1,1,0,0],[0,1,0,1,0,0,0,1,0,0],[1,1,0,1,1,0,0,0,0,0],\n",
        "[1,1,0,1,1,0,0,0,0,0],[1,1,0,0,0,1,0,0,0,0],[1,1,0,1,0,0,0,0,0,0],[1,1,0,0,0,1,0,0,1,0],[1,1,1,0,1,0,0,1,0,0],[1,1,1,1,0,1,0,0,0,0],\n",
        "[1,0,0,1,1,0,0,0,0,0],[1,0,1,0,0,1,0,0,0,0],[1,1,0,0,0,0,1,0,0,0],[0,0,0,1,0,0,0,0,0,1],[1,0,1,0,0,0,0,0,0,0],[0,0,1,0,0,1,0,0,0,0],\n",
        "[1,0,1,0,0,0,0,0,0,0],[1,0,1,1,1,0,0,0,0,0],[0,0,0,0,0,1,0,1,0,0],[1,1,1,1,0,0,0,0,0,0],[1,0,1,0,0,0,0,0,0,0],[0,0,1,0,0,1,0,0,0,0],\n",
        "[1,1,0,1,0,0,0,0,0,1],[1,0,1,0,1,0,0,0,1,0],[0,0,0,1,1,0,0,0,0,0],[1,0,0,1,0,0,0,0,0,0],[1,0,0,0,1,1,0,0,0,0],[1,0,0,1,0,0,0,0,0,0]])\n",
        "\n",
        "data\n"
      ],
      "execution_count": 169,
      "outputs": [
        {
          "output_type": "execute_result",
          "data": {
            "text/plain": [
              "array([[1, 1, 1, 1, 1, 0, 0, 0, 0, 0],\n",
              "       [0, 0, 1, 1, 1, 0, 0, 0, 0, 0],\n",
              "       [0, 1, 0, 0, 1, 0, 1, 0, 0, 0],\n",
              "       [1, 1, 0, 0, 0, 0, 1, 1, 0, 0],\n",
              "       [0, 1, 0, 1, 0, 0, 0, 1, 0, 0],\n",
              "       [1, 1, 0, 1, 1, 0, 0, 0, 0, 0],\n",
              "       [1, 1, 0, 1, 1, 0, 0, 0, 0, 0],\n",
              "       [1, 1, 0, 0, 0, 1, 0, 0, 0, 0],\n",
              "       [1, 1, 0, 1, 0, 0, 0, 0, 0, 0],\n",
              "       [1, 1, 0, 0, 0, 1, 0, 0, 1, 0],\n",
              "       [1, 1, 1, 0, 1, 0, 0, 1, 0, 0],\n",
              "       [1, 1, 1, 1, 0, 1, 0, 0, 0, 0],\n",
              "       [1, 0, 0, 1, 1, 0, 0, 0, 0, 0],\n",
              "       [1, 0, 1, 0, 0, 1, 0, 0, 0, 0],\n",
              "       [1, 1, 0, 0, 0, 0, 1, 0, 0, 0],\n",
              "       [0, 0, 0, 1, 0, 0, 0, 0, 0, 1],\n",
              "       [1, 0, 1, 0, 0, 0, 0, 0, 0, 0],\n",
              "       [0, 0, 1, 0, 0, 1, 0, 0, 0, 0],\n",
              "       [1, 0, 1, 0, 0, 0, 0, 0, 0, 0],\n",
              "       [1, 0, 1, 1, 1, 0, 0, 0, 0, 0],\n",
              "       [0, 0, 0, 0, 0, 1, 0, 1, 0, 0],\n",
              "       [1, 1, 1, 1, 0, 0, 0, 0, 0, 0],\n",
              "       [1, 0, 1, 0, 0, 0, 0, 0, 0, 0],\n",
              "       [0, 0, 1, 0, 0, 1, 0, 0, 0, 0],\n",
              "       [1, 1, 0, 1, 0, 0, 0, 0, 0, 1],\n",
              "       [1, 0, 1, 0, 1, 0, 0, 0, 1, 0],\n",
              "       [0, 0, 0, 1, 1, 0, 0, 0, 0, 0],\n",
              "       [1, 0, 0, 1, 0, 0, 0, 0, 0, 0],\n",
              "       [1, 0, 0, 0, 1, 1, 0, 0, 0, 0],\n",
              "       [1, 0, 0, 1, 0, 0, 0, 0, 0, 0]])"
            ]
          },
          "metadata": {
            "tags": []
          },
          "execution_count": 169
        }
      ]
    },
    {
      "cell_type": "code",
      "metadata": {
        "id": "Lq29sXzoYi6V",
        "colab_type": "code",
        "colab": {
          "base_uri": "https://localhost:8080/",
          "height": 51
        },
        "outputId": "e51f4586-d3b2-41a0-ff8f-a2f799379e8d"
      },
      "source": [
        "numero_actores = data.shape[1]\n",
        "numero_tomas = data.shape[0]\n",
        "max_tomas_por_dia = 6\n",
        "\n",
        "print(numero_actores)\n",
        "print(numero_tomas)\n",
        "\n"
      ],
      "execution_count": 176,
      "outputs": [
        {
          "output_type": "stream",
          "text": [
            "10\n",
            "30\n"
          ],
          "name": "stdout"
        }
      ]
    },
    {
      "cell_type": "code",
      "metadata": {
        "id": "Dv7OT8Hra11-",
        "colab_type": "code",
        "colab": {
          "base_uri": "https://localhost:8080/",
          "height": 136
        },
        "outputId": "bb54b3c3-e825-4954-a1b1-3d03d501f84a"
      },
      "source": [
        "# Solución básica\n",
        "def calcula_coste(matriz_solucion):\n",
        "  matriz_coste = np.zeros(10, dtype=int)\n",
        "  for dia in matriz_solucion:\n",
        "    for act in range(len(sol)):\n",
        "      if dia[act] > 0:\n",
        "        matriz_coste[act] += 1\n",
        "  return np.sum(matriz_coste)\n",
        "\n",
        "def calcula_solucion(tomas, maximo_tomas):\n",
        "  matriz_solucion = [np.zeros(10, dtype=int)]\n",
        "  dia = 0\n",
        "  n_tomas = 0\n",
        "\n",
        "  for toma in tomas:\n",
        "    if (n_tomas >= maximo_tomas):\n",
        "      n_tomas = 0\n",
        "      dia += 1\n",
        "      matriz_solucion = np.append(matriz_solucion, [np.zeros(10, dtype=int)], axis=0)\n",
        "\n",
        "    matriz_solucion[dia] = np.add(matriz_solucion[dia], toma)\n",
        "    n_tomas +=1\n",
        "\n",
        "  coste = calcula_coste(matriz_solucion)\n",
        "\n",
        "  return coste, matriz_solucion\n",
        "\n",
        "\n",
        "solucion = calcula_solucion(data, max_tomas_por_dia)\n",
        "print('coste: ', solucion[0])\n",
        "print('solucion: \\n', solucion[1])\n"
      ],
      "execution_count": 178,
      "outputs": [
        {
          "output_type": "stream",
          "text": [
            "coste:  38\n",
            "solucion: \n",
            " [[3 5 2 4 4 0 2 2 0 0]\n",
            " [6 6 2 3 2 3 0 1 1 0]\n",
            " [4 1 3 2 1 2 1 0 0 1]\n",
            " [4 1 5 2 1 2 0 1 0 0]\n",
            " [5 1 1 4 3 1 0 0 1 1]]\n"
          ],
          "name": "stdout"
        }
      ]
    },
    {
      "cell_type": "code",
      "metadata": {
        "id": "qDQY-0QZYgvu",
        "colab_type": "code",
        "colab": {
          "base_uri": "https://localhost:8080/",
          "height": 289
        },
        "outputId": "0fa9ec26-6414-4f28-9a1b-6d40b43bf878"
      },
      "source": [
        "mejor_coste = 9999999\n",
        "intentos = 10000000\n",
        "\n",
        "copia_data = np.copy(data)\n",
        "\n",
        "for intento in range(intentos):\n",
        "  solucion = calcula_solucion(copia_data, max_tomas_por_dia)\n",
        "  if (solucion[0] < mejor_coste):\n",
        "    mejor_coste = solucion[0]\n",
        "    print(mejor_coste)\n",
        "    mejor_matriz_solucion = solucion[1]\n",
        "  \n",
        "  random = np.random.randint(low=0, high=29, size=2)\n",
        "  t = np.copy(copia_data[random[0]])\n",
        "  copia_data[random[0]] = copia_data[random[1]]\n",
        "  copia_data[random[1]] = t\n",
        "\n",
        "\n",
        "print('coste: ', mejor_coste)\n",
        "print('solucion: \\n', mejor_matriz_solucion)"
      ],
      "execution_count": 181,
      "outputs": [
        {
          "output_type": "stream",
          "text": [
            "38\n",
            "37\n",
            "36\n",
            "35\n",
            "34\n",
            "33\n",
            "32\n",
            "31\n",
            "30\n",
            "coste:  30\n",
            "solucion: \n",
            " [[2 4 0 3 3 2 1 2 0 0]\n",
            " [6 4 2 0 3 2 2 2 2 0]\n",
            " [4 0 6 0 0 3 0 0 0 0]\n",
            " [5 4 2 6 1 1 0 0 0 2]\n",
            " [5 2 3 6 4 0 0 0 0 0]]\n"
          ],
          "name": "stdout"
        }
      ]
    },
    {
      "cell_type": "code",
      "metadata": {
        "id": "xcxnaDUSYcYd",
        "colab_type": "code",
        "colab": {}
      },
      "source": [
        ""
      ],
      "execution_count": 0,
      "outputs": []
    },
    {
      "cell_type": "code",
      "metadata": {
        "id": "jrBR3C5jYYvt",
        "colab_type": "code",
        "colab": {}
      },
      "source": [
        ""
      ],
      "execution_count": 0,
      "outputs": []
    },
    {
      "cell_type": "code",
      "metadata": {
        "id": "Unvj1RNIYuA-",
        "colab_type": "code",
        "colab": {}
      },
      "source": [
        ""
      ],
      "execution_count": 0,
      "outputs": []
    },
    {
      "cell_type": "code",
      "metadata": {
        "id": "BZ326k19YUD1",
        "colab_type": "code",
        "colab": {}
      },
      "source": [
        ""
      ],
      "execution_count": 0,
      "outputs": []
    },
    {
      "cell_type": "code",
      "metadata": {
        "id": "6g2r8jthYA6f",
        "colab_type": "code",
        "colab": {}
      },
      "source": [
        ""
      ],
      "execution_count": 0,
      "outputs": []
    },
    {
      "cell_type": "code",
      "metadata": {
        "id": "G5_9rNfaa5h0",
        "colab_type": "code",
        "colab": {}
      },
      "source": [
        "\n",
        "data = np.array([[1,1,1,1],\n",
        "[0,0,1,1],\n",
        "[0,1,0,0],\n",
        "[1,1,0,0],\n",
        "[0,1,0,1],\n",
        "[1,1,0,1],\n",
        "[1,1,0,1],\n",
        "[1,1,0,0]])\n",
        "\n",
        "copia = np.copy(data)\n",
        "\n",
        "print(np.random.randint(low=0, high=29, size=2))\n",
        "\n",
        "numero_actores = data.shape[1]\n",
        "numero_tomas = data.shape[0]\n",
        "\n",
        "print(numero_actores)\n",
        "print(numero_tomas)\n",
        "\n",
        "copia"
      ],
      "execution_count": 0,
      "outputs": []
    }
  ]
}