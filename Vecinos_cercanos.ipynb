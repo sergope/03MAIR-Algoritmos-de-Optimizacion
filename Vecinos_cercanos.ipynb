{
  "nbformat": 4,
  "nbformat_minor": 0,
  "metadata": {
    "colab": {
      "name": "Vecinos_cercanos",
      "provenance": [],
      "collapsed_sections": [],
      "authorship_tag": "ABX9TyPRC0nLxE3vCYLzlix6uggS",
      "include_colab_link": true
    },
    "kernelspec": {
      "name": "python3",
      "display_name": "Python 3"
    }
  },
  "cells": [
    {
      "cell_type": "markdown",
      "metadata": {
        "id": "view-in-github",
        "colab_type": "text"
      },
      "source": [
        "<a href=\"https://colab.research.google.com/github/sergope/03MAIR-Algoritmos-de-Optimizacion/blob/master/Vecinos_cercanos.ipynb\" target=\"_parent\"><img src=\"https://colab.research.google.com/assets/colab-badge.svg\" alt=\"Open In Colab\"/></a>"
      ]
    },
    {
      "cell_type": "code",
      "metadata": {
        "id": "P9Bmxu09ENUU",
        "colab_type": "code",
        "colab": {}
      },
      "source": [
        "import random"
      ],
      "execution_count": 0,
      "outputs": []
    },
    {
      "cell_type": "code",
      "metadata": {
        "id": "FXTzE4F0LglO",
        "colab_type": "code",
        "colab": {}
      },
      "source": [
        "size = 1000\n",
        "LISTA_1D = [random.randrange(1,size) for x in range (1000)]\n",
        "\n",
        "# # Defino una distancia mínima entre puntos en base al tamaño de los nº de la lista +1\n",
        "# minima_distancia = size + 1\n"
      ],
      "execution_count": 0,
      "outputs": []
    },
    {
      "cell_type": "code",
      "metadata": {
        "id": "76GwhYITF0de",
        "colab_type": "code",
        "outputId": "7be1c2c6-3e50-4563-ee55-036d028916ee",
        "colab": {
          "base_uri": "https://localhost:8080/",
          "height": 68
        }
      },
      "source": [
        "# Vecinos cercanos fureza bruta\n",
        "def calcula_distancia(p1,p2):\n",
        "  return abs(p2 -p1)\n",
        "\n",
        "def vecinos_cercanos_fuerza_bruta(lista, minima_distancia):\n",
        "  for i in range(len(lista)):\n",
        "    if (i==0):\n",
        "      continue\n",
        "    distancia = calcula_distancia(lista[i-1], lista[i])\n",
        "    if (distancia < minima_distancia):\n",
        "      minima_distancia = distancia\n",
        "      if (minima_distancia == 0):\n",
        "        break\n",
        "  # print('minima_distancia: ', minima_distancia)\n",
        "  # print('p1: ', lista[i-1])\n",
        "  # print('p2: ', lista[i])\n",
        "  return minima_distancia, p1, p2\n",
        "# Defino una distancia mínima entre puntos en base al tamaño de los nº de la lista +1\n",
        "minima_distancia = size + 1\n",
        "vecinos_cercanos_fuerza_bruta(LISTA_1D, minima_distancia)"
      ],
      "execution_count": 94,
      "outputs": [
        {
          "output_type": "stream",
          "text": [
            "minima_distancia:  1\n",
            "p1:  484\n",
            "p2:  809\n"
          ],
          "name": "stdout"
        }
      ]
    },
    {
      "cell_type": "code",
      "metadata": {
        "id": "Zo6B4_zNTP1L",
        "colab_type": "code",
        "colab": {
          "base_uri": "https://localhost:8080/",
          "height": 391
        },
        "outputId": "a98d88da-f0e5-4b9e-b7cd-b7843ecd13d8"
      },
      "source": [
        "# def chunks(lst, n):\n",
        "#     \"\"\"Yield successive n-sized chunks from lst.\"\"\"\n",
        "#     for i in range(0, len(lst), n):\n",
        "#         yield lst[i:i + n]\n",
        "\n",
        "\n",
        "def vecinos_cercanos_divide_venceras(lista, minima_distancia):\n",
        "  if (len(lista) <= 3):\n",
        "    (distancia, p1, p2) = vecinos_cercanos_fuerza_bruta(lista, minima_distancia)\n",
        "    if (distancia < minima_distancia):\n",
        "      minima_distancia = distancia\n",
        "  \n",
        "  # Dividimos la lista en 2\n",
        "  mitad = len(lista) // 2 # usamos // para que el resultado sea entero\n",
        "  primera_mitad = lista[:mitad]\n",
        "  segunda_mitad = lista[mitad:]\n",
        "\n",
        "  vecinos_cercanos_divide_venceras(primera_mitad, minima_distancia)\n",
        "  vecinos_cercanos_divide_venceras(segunda_mitad, minima_distancia)\n",
        "\n",
        "  return\n",
        "\n",
        "minima_distancia = size + 1\n",
        "vecinos_cercanos_divide_venceras(LISTA_1D, minima_distancia)"
      ],
      "execution_count": 96,
      "outputs": [
        {
          "output_type": "stream",
          "text": [
            "minima_distancia:  124\n",
            "p1:  763\n",
            "p2:  887\n"
          ],
          "name": "stdout"
        },
        {
          "output_type": "error",
          "ename": "TypeError",
          "evalue": "ignored",
          "traceback": [
            "\u001b[0;31m---------------------------------------------------------------------------\u001b[0m",
            "\u001b[0;31mTypeError\u001b[0m                                 Traceback (most recent call last)",
            "\u001b[0;32m<ipython-input-96-f6fb19156cb5>\u001b[0m in \u001b[0;36m<module>\u001b[0;34m()\u001b[0m\n\u001b[1;32m     16\u001b[0m \u001b[0;34m\u001b[0m\u001b[0m\n\u001b[1;32m     17\u001b[0m \u001b[0mminima_distancia\u001b[0m \u001b[0;34m=\u001b[0m \u001b[0msize\u001b[0m \u001b[0;34m+\u001b[0m \u001b[0;36m1\u001b[0m\u001b[0;34m\u001b[0m\u001b[0;34m\u001b[0m\u001b[0m\n\u001b[0;32m---> 18\u001b[0;31m \u001b[0mvecinos_cercanos_divide_venceras\u001b[0m\u001b[0;34m(\u001b[0m\u001b[0mLISTA_1D\u001b[0m\u001b[0;34m,\u001b[0m \u001b[0mminima_distancia\u001b[0m\u001b[0;34m)\u001b[0m\u001b[0;34m\u001b[0m\u001b[0;34m\u001b[0m\u001b[0m\n\u001b[0m",
            "\u001b[0;32m<ipython-input-96-f6fb19156cb5>\u001b[0m in \u001b[0;36mvecinos_cercanos_divide_venceras\u001b[0;34m(lista, minima_distancia)\u001b[0m\n\u001b[1;32m     12\u001b[0m   \u001b[0msegunda_mitad\u001b[0m \u001b[0;34m=\u001b[0m \u001b[0mlista\u001b[0m\u001b[0;34m[\u001b[0m\u001b[0mmitad\u001b[0m\u001b[0;34m:\u001b[0m\u001b[0;34m]\u001b[0m\u001b[0;34m\u001b[0m\u001b[0;34m\u001b[0m\u001b[0m\n\u001b[1;32m     13\u001b[0m \u001b[0;34m\u001b[0m\u001b[0m\n\u001b[0;32m---> 14\u001b[0;31m   \u001b[0mvecinos_cercanos_divide_venceras\u001b[0m\u001b[0;34m(\u001b[0m\u001b[0mprimera_mitad\u001b[0m\u001b[0;34m,\u001b[0m \u001b[0mminima_distancia\u001b[0m\u001b[0;34m)\u001b[0m\u001b[0;34m\u001b[0m\u001b[0;34m\u001b[0m\u001b[0m\n\u001b[0m\u001b[1;32m     15\u001b[0m   \u001b[0mvecinos_cercanos_divide_venceras\u001b[0m\u001b[0;34m(\u001b[0m\u001b[0msegunda_mitad\u001b[0m\u001b[0;34m,\u001b[0m \u001b[0mminima_distancia\u001b[0m\u001b[0;34m)\u001b[0m\u001b[0;34m\u001b[0m\u001b[0;34m\u001b[0m\u001b[0m\n\u001b[1;32m     16\u001b[0m \u001b[0;34m\u001b[0m\u001b[0m\n",
            "\u001b[0;32m<ipython-input-96-f6fb19156cb5>\u001b[0m in \u001b[0;36mvecinos_cercanos_divide_venceras\u001b[0;34m(lista, minima_distancia)\u001b[0m\n\u001b[1;32m     12\u001b[0m   \u001b[0msegunda_mitad\u001b[0m \u001b[0;34m=\u001b[0m \u001b[0mlista\u001b[0m\u001b[0;34m[\u001b[0m\u001b[0mmitad\u001b[0m\u001b[0;34m:\u001b[0m\u001b[0;34m]\u001b[0m\u001b[0;34m\u001b[0m\u001b[0;34m\u001b[0m\u001b[0m\n\u001b[1;32m     13\u001b[0m \u001b[0;34m\u001b[0m\u001b[0m\n\u001b[0;32m---> 14\u001b[0;31m   \u001b[0mvecinos_cercanos_divide_venceras\u001b[0m\u001b[0;34m(\u001b[0m\u001b[0mprimera_mitad\u001b[0m\u001b[0;34m,\u001b[0m \u001b[0mminima_distancia\u001b[0m\u001b[0;34m)\u001b[0m\u001b[0;34m\u001b[0m\u001b[0;34m\u001b[0m\u001b[0m\n\u001b[0m\u001b[1;32m     15\u001b[0m   \u001b[0mvecinos_cercanos_divide_venceras\u001b[0m\u001b[0;34m(\u001b[0m\u001b[0msegunda_mitad\u001b[0m\u001b[0;34m,\u001b[0m \u001b[0mminima_distancia\u001b[0m\u001b[0;34m)\u001b[0m\u001b[0;34m\u001b[0m\u001b[0;34m\u001b[0m\u001b[0m\n\u001b[1;32m     16\u001b[0m \u001b[0;34m\u001b[0m\u001b[0m\n",
            "\u001b[0;32m<ipython-input-96-f6fb19156cb5>\u001b[0m in \u001b[0;36mvecinos_cercanos_divide_venceras\u001b[0;34m(lista, minima_distancia)\u001b[0m\n\u001b[1;32m     12\u001b[0m   \u001b[0msegunda_mitad\u001b[0m \u001b[0;34m=\u001b[0m \u001b[0mlista\u001b[0m\u001b[0;34m[\u001b[0m\u001b[0mmitad\u001b[0m\u001b[0;34m:\u001b[0m\u001b[0;34m]\u001b[0m\u001b[0;34m\u001b[0m\u001b[0;34m\u001b[0m\u001b[0m\n\u001b[1;32m     13\u001b[0m \u001b[0;34m\u001b[0m\u001b[0m\n\u001b[0;32m---> 14\u001b[0;31m   \u001b[0mvecinos_cercanos_divide_venceras\u001b[0m\u001b[0;34m(\u001b[0m\u001b[0mprimera_mitad\u001b[0m\u001b[0;34m,\u001b[0m \u001b[0mminima_distancia\u001b[0m\u001b[0;34m)\u001b[0m\u001b[0;34m\u001b[0m\u001b[0;34m\u001b[0m\u001b[0m\n\u001b[0m\u001b[1;32m     15\u001b[0m   \u001b[0mvecinos_cercanos_divide_venceras\u001b[0m\u001b[0;34m(\u001b[0m\u001b[0msegunda_mitad\u001b[0m\u001b[0;34m,\u001b[0m \u001b[0mminima_distancia\u001b[0m\u001b[0;34m)\u001b[0m\u001b[0;34m\u001b[0m\u001b[0;34m\u001b[0m\u001b[0m\n\u001b[1;32m     16\u001b[0m \u001b[0;34m\u001b[0m\u001b[0m\n",
            "\u001b[0;32m<ipython-input-96-f6fb19156cb5>\u001b[0m in \u001b[0;36mvecinos_cercanos_divide_venceras\u001b[0;34m(lista, minima_distancia)\u001b[0m\n\u001b[1;32m     12\u001b[0m   \u001b[0msegunda_mitad\u001b[0m \u001b[0;34m=\u001b[0m \u001b[0mlista\u001b[0m\u001b[0;34m[\u001b[0m\u001b[0mmitad\u001b[0m\u001b[0;34m:\u001b[0m\u001b[0;34m]\u001b[0m\u001b[0;34m\u001b[0m\u001b[0;34m\u001b[0m\u001b[0m\n\u001b[1;32m     13\u001b[0m \u001b[0;34m\u001b[0m\u001b[0m\n\u001b[0;32m---> 14\u001b[0;31m   \u001b[0mvecinos_cercanos_divide_venceras\u001b[0m\u001b[0;34m(\u001b[0m\u001b[0mprimera_mitad\u001b[0m\u001b[0;34m,\u001b[0m \u001b[0mminima_distancia\u001b[0m\u001b[0;34m)\u001b[0m\u001b[0;34m\u001b[0m\u001b[0;34m\u001b[0m\u001b[0m\n\u001b[0m\u001b[1;32m     15\u001b[0m   \u001b[0mvecinos_cercanos_divide_venceras\u001b[0m\u001b[0;34m(\u001b[0m\u001b[0msegunda_mitad\u001b[0m\u001b[0;34m,\u001b[0m \u001b[0mminima_distancia\u001b[0m\u001b[0;34m)\u001b[0m\u001b[0;34m\u001b[0m\u001b[0;34m\u001b[0m\u001b[0m\n\u001b[1;32m     16\u001b[0m \u001b[0;34m\u001b[0m\u001b[0m\n",
            "\u001b[0;32m<ipython-input-96-f6fb19156cb5>\u001b[0m in \u001b[0;36mvecinos_cercanos_divide_venceras\u001b[0;34m(lista, minima_distancia)\u001b[0m\n\u001b[1;32m     12\u001b[0m   \u001b[0msegunda_mitad\u001b[0m \u001b[0;34m=\u001b[0m \u001b[0mlista\u001b[0m\u001b[0;34m[\u001b[0m\u001b[0mmitad\u001b[0m\u001b[0;34m:\u001b[0m\u001b[0;34m]\u001b[0m\u001b[0;34m\u001b[0m\u001b[0;34m\u001b[0m\u001b[0m\n\u001b[1;32m     13\u001b[0m \u001b[0;34m\u001b[0m\u001b[0m\n\u001b[0;32m---> 14\u001b[0;31m   \u001b[0mvecinos_cercanos_divide_venceras\u001b[0m\u001b[0;34m(\u001b[0m\u001b[0mprimera_mitad\u001b[0m\u001b[0;34m,\u001b[0m \u001b[0mminima_distancia\u001b[0m\u001b[0;34m)\u001b[0m\u001b[0;34m\u001b[0m\u001b[0;34m\u001b[0m\u001b[0m\n\u001b[0m\u001b[1;32m     15\u001b[0m   \u001b[0mvecinos_cercanos_divide_venceras\u001b[0m\u001b[0;34m(\u001b[0m\u001b[0msegunda_mitad\u001b[0m\u001b[0;34m,\u001b[0m \u001b[0mminima_distancia\u001b[0m\u001b[0;34m)\u001b[0m\u001b[0;34m\u001b[0m\u001b[0;34m\u001b[0m\u001b[0m\n\u001b[1;32m     16\u001b[0m \u001b[0;34m\u001b[0m\u001b[0m\n",
            "\u001b[0;32m<ipython-input-96-f6fb19156cb5>\u001b[0m in \u001b[0;36mvecinos_cercanos_divide_venceras\u001b[0;34m(lista, minima_distancia)\u001b[0m\n\u001b[1;32m     12\u001b[0m   \u001b[0msegunda_mitad\u001b[0m \u001b[0;34m=\u001b[0m \u001b[0mlista\u001b[0m\u001b[0;34m[\u001b[0m\u001b[0mmitad\u001b[0m\u001b[0;34m:\u001b[0m\u001b[0;34m]\u001b[0m\u001b[0;34m\u001b[0m\u001b[0;34m\u001b[0m\u001b[0m\n\u001b[1;32m     13\u001b[0m \u001b[0;34m\u001b[0m\u001b[0m\n\u001b[0;32m---> 14\u001b[0;31m   \u001b[0mvecinos_cercanos_divide_venceras\u001b[0m\u001b[0;34m(\u001b[0m\u001b[0mprimera_mitad\u001b[0m\u001b[0;34m,\u001b[0m \u001b[0mminima_distancia\u001b[0m\u001b[0;34m)\u001b[0m\u001b[0;34m\u001b[0m\u001b[0;34m\u001b[0m\u001b[0m\n\u001b[0m\u001b[1;32m     15\u001b[0m   \u001b[0mvecinos_cercanos_divide_venceras\u001b[0m\u001b[0;34m(\u001b[0m\u001b[0msegunda_mitad\u001b[0m\u001b[0;34m,\u001b[0m \u001b[0mminima_distancia\u001b[0m\u001b[0;34m)\u001b[0m\u001b[0;34m\u001b[0m\u001b[0;34m\u001b[0m\u001b[0m\n\u001b[1;32m     16\u001b[0m \u001b[0;34m\u001b[0m\u001b[0m\n",
            "\u001b[0;32m<ipython-input-96-f6fb19156cb5>\u001b[0m in \u001b[0;36mvecinos_cercanos_divide_venceras\u001b[0;34m(lista, minima_distancia)\u001b[0m\n\u001b[1;32m     12\u001b[0m   \u001b[0msegunda_mitad\u001b[0m \u001b[0;34m=\u001b[0m \u001b[0mlista\u001b[0m\u001b[0;34m[\u001b[0m\u001b[0mmitad\u001b[0m\u001b[0;34m:\u001b[0m\u001b[0;34m]\u001b[0m\u001b[0;34m\u001b[0m\u001b[0;34m\u001b[0m\u001b[0m\n\u001b[1;32m     13\u001b[0m \u001b[0;34m\u001b[0m\u001b[0m\n\u001b[0;32m---> 14\u001b[0;31m   \u001b[0mvecinos_cercanos_divide_venceras\u001b[0m\u001b[0;34m(\u001b[0m\u001b[0mprimera_mitad\u001b[0m\u001b[0;34m,\u001b[0m \u001b[0mminima_distancia\u001b[0m\u001b[0;34m)\u001b[0m\u001b[0;34m\u001b[0m\u001b[0;34m\u001b[0m\u001b[0m\n\u001b[0m\u001b[1;32m     15\u001b[0m   \u001b[0mvecinos_cercanos_divide_venceras\u001b[0m\u001b[0;34m(\u001b[0m\u001b[0msegunda_mitad\u001b[0m\u001b[0;34m,\u001b[0m \u001b[0mminima_distancia\u001b[0m\u001b[0;34m)\u001b[0m\u001b[0;34m\u001b[0m\u001b[0;34m\u001b[0m\u001b[0m\n\u001b[1;32m     16\u001b[0m \u001b[0;34m\u001b[0m\u001b[0m\n",
            "\u001b[0;32m<ipython-input-96-f6fb19156cb5>\u001b[0m in \u001b[0;36mvecinos_cercanos_divide_venceras\u001b[0;34m(lista, minima_distancia)\u001b[0m\n\u001b[1;32m     12\u001b[0m   \u001b[0msegunda_mitad\u001b[0m \u001b[0;34m=\u001b[0m \u001b[0mlista\u001b[0m\u001b[0;34m[\u001b[0m\u001b[0mmitad\u001b[0m\u001b[0;34m:\u001b[0m\u001b[0;34m]\u001b[0m\u001b[0;34m\u001b[0m\u001b[0;34m\u001b[0m\u001b[0m\n\u001b[1;32m     13\u001b[0m \u001b[0;34m\u001b[0m\u001b[0m\n\u001b[0;32m---> 14\u001b[0;31m   \u001b[0mvecinos_cercanos_divide_venceras\u001b[0m\u001b[0;34m(\u001b[0m\u001b[0mprimera_mitad\u001b[0m\u001b[0;34m,\u001b[0m \u001b[0mminima_distancia\u001b[0m\u001b[0;34m)\u001b[0m\u001b[0;34m\u001b[0m\u001b[0;34m\u001b[0m\u001b[0m\n\u001b[0m\u001b[1;32m     15\u001b[0m   \u001b[0mvecinos_cercanos_divide_venceras\u001b[0m\u001b[0;34m(\u001b[0m\u001b[0msegunda_mitad\u001b[0m\u001b[0;34m,\u001b[0m \u001b[0mminima_distancia\u001b[0m\u001b[0;34m)\u001b[0m\u001b[0;34m\u001b[0m\u001b[0;34m\u001b[0m\u001b[0m\n\u001b[1;32m     16\u001b[0m \u001b[0;34m\u001b[0m\u001b[0m\n",
            "\u001b[0;32m<ipython-input-96-f6fb19156cb5>\u001b[0m in \u001b[0;36mvecinos_cercanos_divide_venceras\u001b[0;34m(lista, minima_distancia)\u001b[0m\n\u001b[1;32m      3\u001b[0m \u001b[0;32mdef\u001b[0m \u001b[0mvecinos_cercanos_divide_venceras\u001b[0m\u001b[0;34m(\u001b[0m\u001b[0mlista\u001b[0m\u001b[0;34m,\u001b[0m \u001b[0mminima_distancia\u001b[0m\u001b[0;34m)\u001b[0m\u001b[0;34m:\u001b[0m\u001b[0;34m\u001b[0m\u001b[0;34m\u001b[0m\u001b[0m\n\u001b[1;32m      4\u001b[0m   \u001b[0;32mif\u001b[0m \u001b[0;34m(\u001b[0m\u001b[0mlen\u001b[0m\u001b[0;34m(\u001b[0m\u001b[0mlista\u001b[0m\u001b[0;34m)\u001b[0m \u001b[0;34m<=\u001b[0m \u001b[0;36m3\u001b[0m\u001b[0;34m)\u001b[0m\u001b[0;34m:\u001b[0m\u001b[0;34m\u001b[0m\u001b[0;34m\u001b[0m\u001b[0m\n\u001b[0;32m----> 5\u001b[0;31m     \u001b[0;34m(\u001b[0m\u001b[0mdistancia\u001b[0m\u001b[0;34m,\u001b[0m \u001b[0mp1\u001b[0m\u001b[0;34m,\u001b[0m \u001b[0mp2\u001b[0m\u001b[0;34m)\u001b[0m \u001b[0;34m=\u001b[0m \u001b[0mvecinos_cercanos_fuerza_bruta\u001b[0m\u001b[0;34m(\u001b[0m\u001b[0mlista\u001b[0m\u001b[0;34m,\u001b[0m \u001b[0mminima_distancia\u001b[0m\u001b[0;34m)\u001b[0m\u001b[0;34m\u001b[0m\u001b[0;34m\u001b[0m\u001b[0m\n\u001b[0m\u001b[1;32m      6\u001b[0m     \u001b[0;32mif\u001b[0m \u001b[0;34m(\u001b[0m\u001b[0mdistancia\u001b[0m \u001b[0;34m<\u001b[0m \u001b[0mminima_distancia\u001b[0m\u001b[0;34m)\u001b[0m\u001b[0;34m:\u001b[0m\u001b[0;34m\u001b[0m\u001b[0;34m\u001b[0m\u001b[0m\n\u001b[1;32m      7\u001b[0m       \u001b[0mminima_distancia\u001b[0m \u001b[0;34m=\u001b[0m \u001b[0mdistancia\u001b[0m\u001b[0;34m\u001b[0m\u001b[0;34m\u001b[0m\u001b[0m\n",
            "\u001b[0;31mTypeError\u001b[0m: 'NoneType' object is not iterable"
          ]
        }
      ]
    }
  ]
}